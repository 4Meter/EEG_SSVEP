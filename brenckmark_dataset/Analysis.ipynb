{
  "cells": [
    {
      "cell_type": "markdown",
      "metadata": {
        "id": "CseP8yiLlBZV"
      },
      "source": [
        "This notebook analyze Brenchmark dataset with:\n",
        "- FBCCA\n",
        "- EEGnet"
      ]
    },
    {
      "cell_type": "code",
      "source": [
        "!pip install mne\n",
        "!pip install scipy"
      ],
      "metadata": {
        "colab": {
          "base_uri": "https://localhost:8080/"
        },
        "id": "Ucp49-zhlMUj",
        "outputId": "57381967-6e09-4613-9b3d-2e3c4e69ef37"
      },
      "execution_count": null,
      "outputs": [
        {
          "output_type": "stream",
          "name": "stdout",
          "text": [
            "Collecting mne\n",
            "  Downloading mne-1.7.0-py3-none-any.whl (7.4 MB)\n",
            "\u001b[2K     \u001b[90m━━━━━━━━━━━━━━━━━━━━━━━━━━━━━━━━━━━━━━━━\u001b[0m \u001b[32m7.4/7.4 MB\u001b[0m \u001b[31m18.9 MB/s\u001b[0m eta \u001b[36m0:00:00\u001b[0m\n",
            "\u001b[?25hRequirement already satisfied: decorator in /usr/local/lib/python3.10/dist-packages (from mne) (4.4.2)\n",
            "Requirement already satisfied: jinja2 in /usr/local/lib/python3.10/dist-packages (from mne) (3.1.4)\n",
            "Requirement already satisfied: lazy-loader>=0.3 in /usr/local/lib/python3.10/dist-packages (from mne) (0.4)\n",
            "Requirement already satisfied: matplotlib>=3.5.0 in /usr/local/lib/python3.10/dist-packages (from mne) (3.7.1)\n",
            "Requirement already satisfied: numpy>=1.21.2 in /usr/local/lib/python3.10/dist-packages (from mne) (1.25.2)\n",
            "Requirement already satisfied: packaging in /usr/local/lib/python3.10/dist-packages (from mne) (24.1)\n",
            "Requirement already satisfied: pooch>=1.5 in /usr/local/lib/python3.10/dist-packages (from mne) (1.8.2)\n",
            "Requirement already satisfied: scipy>=1.7.1 in /usr/local/lib/python3.10/dist-packages (from mne) (1.11.4)\n",
            "Requirement already satisfied: tqdm in /usr/local/lib/python3.10/dist-packages (from mne) (4.66.4)\n",
            "Requirement already satisfied: contourpy>=1.0.1 in /usr/local/lib/python3.10/dist-packages (from matplotlib>=3.5.0->mne) (1.2.1)\n",
            "Requirement already satisfied: cycler>=0.10 in /usr/local/lib/python3.10/dist-packages (from matplotlib>=3.5.0->mne) (0.12.1)\n",
            "Requirement already satisfied: fonttools>=4.22.0 in /usr/local/lib/python3.10/dist-packages (from matplotlib>=3.5.0->mne) (4.53.0)\n",
            "Requirement already satisfied: kiwisolver>=1.0.1 in /usr/local/lib/python3.10/dist-packages (from matplotlib>=3.5.0->mne) (1.4.5)\n",
            "Requirement already satisfied: pillow>=6.2.0 in /usr/local/lib/python3.10/dist-packages (from matplotlib>=3.5.0->mne) (9.4.0)\n",
            "Requirement already satisfied: pyparsing>=2.3.1 in /usr/local/lib/python3.10/dist-packages (from matplotlib>=3.5.0->mne) (3.1.2)\n",
            "Requirement already satisfied: python-dateutil>=2.7 in /usr/local/lib/python3.10/dist-packages (from matplotlib>=3.5.0->mne) (2.8.2)\n",
            "Requirement already satisfied: platformdirs>=2.5.0 in /usr/local/lib/python3.10/dist-packages (from pooch>=1.5->mne) (4.2.2)\n",
            "Requirement already satisfied: requests>=2.19.0 in /usr/local/lib/python3.10/dist-packages (from pooch>=1.5->mne) (2.31.0)\n",
            "Requirement already satisfied: MarkupSafe>=2.0 in /usr/local/lib/python3.10/dist-packages (from jinja2->mne) (2.1.5)\n",
            "Requirement already satisfied: six>=1.5 in /usr/local/lib/python3.10/dist-packages (from python-dateutil>=2.7->matplotlib>=3.5.0->mne) (1.16.0)\n",
            "Requirement already satisfied: charset-normalizer<4,>=2 in /usr/local/lib/python3.10/dist-packages (from requests>=2.19.0->pooch>=1.5->mne) (3.3.2)\n",
            "Requirement already satisfied: idna<4,>=2.5 in /usr/local/lib/python3.10/dist-packages (from requests>=2.19.0->pooch>=1.5->mne) (3.7)\n",
            "Requirement already satisfied: urllib3<3,>=1.21.1 in /usr/local/lib/python3.10/dist-packages (from requests>=2.19.0->pooch>=1.5->mne) (2.0.7)\n",
            "Requirement already satisfied: certifi>=2017.4.17 in /usr/local/lib/python3.10/dist-packages (from requests>=2.19.0->pooch>=1.5->mne) (2024.6.2)\n",
            "Installing collected packages: mne\n",
            "Successfully installed mne-1.7.0\n",
            "Requirement already satisfied: scipy in /usr/local/lib/python3.10/dist-packages (1.11.4)\n",
            "Requirement already satisfied: numpy<1.28.0,>=1.21.6 in /usr/local/lib/python3.10/dist-packages (from scipy) (1.25.2)\n"
          ]
        }
      ]
    },
    {
      "cell_type": "code",
      "source": [
        "from google.colab import drive\n",
        "drive.mount('/content/drive')"
      ],
      "metadata": {
        "colab": {
          "base_uri": "https://localhost:8080/"
        },
        "id": "p7yoarntloXC",
        "outputId": "30954440-a724-4767-b46a-407412f041af"
      },
      "execution_count": null,
      "outputs": [
        {
          "output_type": "stream",
          "name": "stdout",
          "text": [
            "Mounted at /content/drive\n"
          ]
        }
      ]
    },
    {
      "cell_type": "code",
      "source": [
        "!nvidia-smi"
      ],
      "metadata": {
        "id": "_UKKrx0Coc6b",
        "colab": {
          "base_uri": "https://localhost:8080/"
        },
        "outputId": "bd872f88-4ec8-4fe2-ca8d-136379c634cb"
      },
      "execution_count": null,
      "outputs": [
        {
          "output_type": "stream",
          "name": "stdout",
          "text": [
            "Thu Jun 13 14:24:34 2024       \n",
            "+---------------------------------------------------------------------------------------+\n",
            "| NVIDIA-SMI 535.104.05             Driver Version: 535.104.05   CUDA Version: 12.2     |\n",
            "|-----------------------------------------+----------------------+----------------------+\n",
            "| GPU  Name                 Persistence-M | Bus-Id        Disp.A | Volatile Uncorr. ECC |\n",
            "| Fan  Temp   Perf          Pwr:Usage/Cap |         Memory-Usage | GPU-Util  Compute M. |\n",
            "|                                         |                      |               MIG M. |\n",
            "|=========================================+======================+======================|\n",
            "|   0  NVIDIA L4                      Off | 00000000:00:03.0 Off |                    0 |\n",
            "| N/A   37C    P8              12W /  72W |      1MiB / 23034MiB |      0%      Default |\n",
            "|                                         |                      |                  N/A |\n",
            "+-----------------------------------------+----------------------+----------------------+\n",
            "                                                                                         \n",
            "+---------------------------------------------------------------------------------------+\n",
            "| Processes:                                                                            |\n",
            "|  GPU   GI   CI        PID   Type   Process name                            GPU Memory |\n",
            "|        ID   ID                                                             Usage      |\n",
            "|=======================================================================================|\n",
            "|  No running processes found                                                           |\n",
            "+---------------------------------------------------------------------------------------+\n"
          ]
        }
      ]
    },
    {
      "cell_type": "markdown",
      "metadata": {
        "id": "PLF79GXklBZZ"
      },
      "source": [
        "### Load data"
      ]
    },
    {
      "cell_type": "code",
      "execution_count": null,
      "metadata": {
        "colab": {
          "base_uri": "https://localhost:8080/"
        },
        "id": "vP5brq4xlBZa",
        "outputId": "0c11050d-1739-4ce2-8cd2-60f08b3c6c3c"
      },
      "outputs": [
        {
          "output_type": "execute_result",
          "data": {
            "text/plain": [
              "(64, 1500, 40, 6)"
            ]
          },
          "metadata": {},
          "execution_count": 3
        }
      ],
      "source": [
        "import numpy as np\n",
        "import scipy.io\n",
        "\n",
        "# read .mat data file\n",
        "# used data of Subject1 for analysis\n",
        "data_path = \"/content/drive/MyDrive/datasets/Benchmark/\"\n",
        "filename = data_path + 'S1.mat'   # configurable -> modify to analyize other subject\n",
        "file = scipy.io.loadmat(filename)\n",
        "data = file['data']\n",
        "\n",
        "# (n_channels, n_times, n_targets, n_blocks)\n",
        "data.shape"
      ]
    },
    {
      "cell_type": "markdown",
      "metadata": {
        "id": "FYaRJwqHlBZc"
      },
      "source": [
        "## FBCCA"
      ]
    },
    {
      "cell_type": "markdown",
      "source": [
        "Reference Github: https://github.com/mnakanishi/TRCA-SSVEP"
      ],
      "metadata": {
        "id": "cf18i9Ebf10N"
      }
    },
    {
      "cell_type": "code",
      "source": [
        "# -*- coding: utf-8 -*-\n",
        "\"\"\"\n",
        "Created on Wed Oct 30 10:17:50 2019\n",
        "\n",
        "@author: ALU\n",
        "\n",
        "Steady-state visual evoked potentials (SSVEPs) detection using the filter\n",
        "bank canonical correlation analysis (FBCCA)-based method [1].\n",
        "\n",
        "function results = test_fbcca(eeg, list_freqs, fs, num_harms, num_fbs)\n",
        "\n",
        "Input:\n",
        "  eeg             : Input eeg data\n",
        "                    (# of targets, # of channels, Data length [sample])\n",
        "  list_freqs      : List for stimulus frequencies\n",
        "  fs              : Sampling frequency\n",
        "  num_harms       : # of harmonics\n",
        "  num_fbs         : # of filters in filterbank analysis\n",
        "\n",
        "Output:\n",
        "  results         : The target estimated by this method\n",
        "\n",
        "Reference:\n",
        "  [1] X. Chen, Y. Wang, S. Gao, T. -P. Jung and X. Gao,\n",
        "      \"Filter bank canonical correlation analysis for implementing a\n",
        "       high-speed SSVEP-based brain-computer interface\",\n",
        "      J. Neural Eng., vol.12, 046008, 2015.\n",
        "\n",
        "\"\"\"\n",
        "from sklearn.cross_decomposition import CCA\n",
        "from scipy.stats import pearsonr\n",
        "import warnings\n",
        "import scipy.signal\n",
        "import numpy as np\n",
        "\n",
        "\n",
        "def filterbank(eeg, fs, idx_fb):\n",
        "    if idx_fb == None:\n",
        "        warnings.warn('stats:filterbank:MissingInput ' \\\n",
        "                      + 'Missing filter index. Default value (idx_fb = 0) will be used.')\n",
        "        idx_fb = 0\n",
        "    elif (idx_fb < 0 or 9 < idx_fb):\n",
        "        raise ValueError('stats:filterbank:InvalidInput ' \\\n",
        "                         + 'The number of sub-bands must be 0 <= idx_fb <= 9.')\n",
        "\n",
        "    if (len(eeg.shape) == 2):\n",
        "        num_chans = eeg.shape[0]\n",
        "        num_trials = 1\n",
        "    else:\n",
        "        num_chans, _, num_trials = eeg.shape\n",
        "\n",
        "    # Nyquist Frequency = Fs/2N\n",
        "    Nq = fs / 2\n",
        "\n",
        "    passband = [6, 8, 10, 16, 22, 28, 34, 40]\n",
        "    stopband = [4, 6,  6, 10, 16, 22, 28, 34]\n",
        "    Wp = [passband[idx_fb] / Nq, 50 / Nq]\n",
        "    Ws = [stopband[idx_fb] / Nq, 60 / Nq]\n",
        "    [N, Wn] = scipy.signal.cheb1ord(Wp, Ws, 3, 40)  # band pass filter StopBand=[Ws(1)~Ws(2)] PassBand=[Wp(1)~Wp(2)]\n",
        "    [B, A] = scipy.signal.cheby1(N, 0.5, Wn, 'bandpass')  # Wn passband edge frequency\n",
        "\n",
        "    y = np.zeros(eeg.shape)\n",
        "    if (num_trials == 1):\n",
        "        for ch_i in range(num_chans):\n",
        "            # apply filter, zero phass filtering by applying a linear filter twice, once forward and once backwards.\n",
        "            # to match matlab result we need to change padding length\n",
        "            y[ch_i, :] = scipy.signal.filtfilt(B, A, eeg[ch_i, :], padtype='odd', padlen=3 * (max(len(B), len(A)) - 1))\n",
        "\n",
        "    else:\n",
        "        for trial_i in range(num_trials):\n",
        "            for ch_i in range(num_chans):\n",
        "                y[ch_i, :, trial_i] = scipy.signal.filtfilt(B, A, eeg[ch_i, :, trial_i], padtype='odd',\n",
        "                                                            padlen=3 * (max(len(B), len(A)) - 1))\n",
        "\n",
        "    return y\n",
        "\n",
        "def fbcca(data, list_freqs, fs, num_harms=3, num_fbs=5):\n",
        "\n",
        "    fb_coefs = np.power(np.arange(1,num_fbs+1),(-1.25)) + 0.25\n",
        "\n",
        "    num_targs = len(list_freqs)\n",
        "    _, num_smpls = data.shape\n",
        "\n",
        "    y_ref = cca_reference(list_freqs, fs, num_smpls, num_harms)\n",
        "    cca = CCA(n_components=1) #initialize CCA\n",
        "\n",
        "    # result matrix\n",
        "    r = np.zeros((num_fbs,num_targs))\n",
        "\n",
        "    for fb_i in range(num_fbs):  #filter bank number, deal with different filter bank\n",
        "        testdata = filterbank(data, fs, fb_i)  #data after filtering\n",
        "        for class_i in range(num_targs):\n",
        "            refdata = np.squeeze(y_ref[class_i, :, :])   #pick corresponding freq target reference signal\n",
        "            test_C, ref_C = cca.fit_transform(testdata.T, refdata.T)\n",
        "            r_tmp, _ = pearsonr(np.squeeze(test_C), np.squeeze(ref_C)) #return r and p_value\n",
        "            if r_tmp == np.nan:\n",
        "                r_tmp=0\n",
        "            r[fb_i, class_i] = r_tmp\n",
        "\n",
        "    rho = np.dot(fb_coefs, r)  #weighted sum of r from all different filter banks' result\n",
        "    print(rho) #print out the correlation\n",
        "    result = np.argmax(rho)  #get maximum from the target as the final predict (get the index), and index indicates the maximum entry(most possible target)\n",
        "    return result\n",
        "\n",
        "'''\n",
        "Generate reference signals for the canonical correlation analysis (CCA)\n",
        "-based steady-state visual evoked potentials (SSVEPs) detection [1, 2].\n",
        "\n",
        "function [ y_ref ] = cca_reference(listFreq, fs,  nSmpls, nHarms)\n",
        "\n",
        "Input:\n",
        "  listFreq        : List for stimulus frequencies\n",
        "  fs              : Sampling frequency\n",
        "  nSmpls          : # of samples in an epoch\n",
        "  nHarms          : # of harmonics\n",
        "\n",
        "Output:\n",
        "  y_ref           : Generated reference signals\n",
        "                   (# of targets, 2*# of channels, Data length [sample])\n",
        "\n",
        "Reference:\n",
        "  [1] Z. Lin, C. Zhang, W. Wu, and X. Gao,\n",
        "      \"Frequency Recognition Based on Canonical Correlation Analysis for\n",
        "       SSVEP-Based BCI\",\n",
        "      IEEE Trans. Biomed. Eng., 54(6), 1172-1176, 2007.\n",
        "  [2] G. Bin, X. Gao, Z. Yan, B. Hong, and S. Gao,\n",
        "      \"An online multi-channel SSVEP-based brain-computer interface using\n",
        "       a canonical correlation analysis method\",\n",
        "      J. Neural Eng., 6 (2009) 046002 (6pp).\n",
        "'''\n",
        "def cca_reference(list_freqs, fs, num_smpls, num_harms=3):\n",
        "\n",
        "    num_freqs = len(list_freqs)\n",
        "    tidx = np.arange(1,num_smpls+1)/fs #time index\n",
        "\n",
        "    y_ref = np.zeros((num_freqs, 2*num_harms, num_smpls))\n",
        "    for freq_i in range(num_freqs):\n",
        "        tmp = []\n",
        "        for harm_i in range(1,num_harms+1):\n",
        "            stim_freq = list_freqs[freq_i]  #in HZ\n",
        "            # Sin and Cos\n",
        "            tmp.extend([np.sin(2*np.pi*tidx*harm_i*stim_freq),\n",
        "                       np.cos(2*np.pi*tidx*harm_i*stim_freq)])\n",
        "        y_ref[freq_i] = tmp # 2*num_harms because include both sin and cos\n",
        "\n",
        "    return y_ref"
      ],
      "metadata": {
        "id": "5WBQPmXsfivC"
      },
      "execution_count": null,
      "outputs": []
    },
    {
      "cell_type": "code",
      "execution_count": null,
      "metadata": {
        "id": "uc323vJ_lBZd"
      },
      "outputs": [],
      "source": [
        "# reshape data to shape(n_blocks, n_targets, n_channels, n_times)\n",
        "# (64, 1500, 40, 6) -> (6, 40, 64, 1500)\n",
        "data_ana = np.transpose(data, (3, 2, 0, 1))\n",
        "\n",
        "list_freqs = [round(8 + 0.2 * x,1) for x in range(40)]\n",
        "# 9 chaneels (Pz, PO5, PO3, POz, PO4, PO6, O1, Oz, O2) are used for analysis in original dataset paper\n",
        "ch_used = [54, 55, 56, 57, 58, 61, 62, 63]\n",
        "fs = 250 # Hz\n",
        "data_len = 5 # sec\n",
        "\n",
        "results = []\n",
        "for block_i in range(6):\n",
        "    results.append(fbcca(data_ana[block_i][:,ch_used,int(fs*0.5):int(fs*0.5+data_len*fs)],list_freqs=list_freqs, fs = fs))"
      ]
    },
    {
      "cell_type": "markdown",
      "metadata": {
        "id": "B65uXTRvlBZe"
      },
      "source": [
        "### Analysis result"
      ]
    },
    {
      "cell_type": "code",
      "execution_count": null,
      "metadata": {
        "id": "hXPfdMFUlBZe",
        "colab": {
          "base_uri": "https://localhost:8080/"
        },
        "outputId": "ec709841-0165-4c5a-f81b-b583dfa7b9b7"
      },
      "outputs": [
        {
          "output_type": "stream",
          "name": "stdout",
          "text": [
            "  8.0   9.0  10.0  11.0  12.0  13.0  14.0  15.0 \n",
            "  8.2   9.2  10.2  11.2  12.2  13.2  14.2  15.2 \n",
            "  8.4   9.4  10.4  11.4  12.4  13.4  10.4  15.4 \n",
            "  8.6   9.6  10.6  11.6  12.6  13.6  14.6  10.4 \n",
            "  8.8   9.8  10.8  11.8  12.8  13.8  14.8  15.8 \n"
          ]
        }
      ],
      "source": [
        "# print out result of first block\n",
        "for i, res in enumerate(results[0]):\n",
        "    print(f'{list_freqs[int(res)]:5.1f}',end=' ')\n",
        "    if (i+1) % 8 == 0:\n",
        "        print()"
      ]
    },
    {
      "cell_type": "markdown",
      "metadata": {
        "id": "53jXw9cFlBZe"
      },
      "source": [
        "### Actual Frequency"
      ]
    },
    {
      "cell_type": "code",
      "execution_count": null,
      "metadata": {
        "id": "U_64oHyGlBZf",
        "colab": {
          "base_uri": "https://localhost:8080/"
        },
        "outputId": "d589afcf-8014-4af2-ca25-a29eb8c4a084"
      },
      "outputs": [
        {
          "output_type": "stream",
          "name": "stdout",
          "text": [
            "  8.0   9.0  10.0  11.0  12.0  13.0  14.0  15.0 \n",
            "  8.2   9.2  10.2  11.2  12.2  13.2  14.2  15.2 \n",
            "  8.4   9.4  10.4  11.4  12.4  13.4  14.4  15.4 \n",
            "  8.6   9.6  10.6  11.6  12.6  13.6  14.6  15.6 \n",
            "  8.8   9.8  10.8  11.8  12.8  13.8  14.8  15.8 \n"
          ]
        }
      ],
      "source": [
        "freq_a = [8 + x // 8 * 0.2 + x % 8 * 1 for x in range(40)]\n",
        "# print out actual stimulus frequency\n",
        "for i, freq in enumerate(freq_a):\n",
        "    print(f'{freq:5.1f}',end=' ')\n",
        "    if (i+1) % 8 == 0:\n",
        "        print()"
      ]
    },
    {
      "cell_type": "code",
      "execution_count": null,
      "metadata": {
        "id": "OWp0dPQVlBZf",
        "colab": {
          "base_uri": "https://localhost:8080/"
        },
        "outputId": "c3dc846d-fb81-4f7d-8ef2-a4e2e7787f19"
      },
      "outputs": [
        {
          "output_type": "execute_result",
          "data": {
            "text/plain": [
              "24"
            ]
          },
          "metadata": {},
          "execution_count": 7
        }
      ],
      "source": [
        "# number of misclassification\n",
        "mis_cnt = 0\n",
        "\n",
        "for block_i in range(6):\n",
        "    for target_i in range(40):\n",
        "        if list_freqs[int(results[block_i][target_i])] != freq_a[target_i]:\n",
        "            mis_cnt += 1\n",
        "\n",
        "mis_cnt"
      ]
    },
    {
      "cell_type": "code",
      "execution_count": null,
      "metadata": {
        "id": "OwIEvMPglBZg",
        "colab": {
          "base_uri": "https://localhost:8080/"
        },
        "outputId": "741cd364-b7c3-4e6e-e747-a73f7a47604b"
      },
      "outputs": [
        {
          "output_type": "stream",
          "name": "stdout",
          "text": [
            "FBCCA Classification Accuracy: 90.00%\n"
          ]
        }
      ],
      "source": [
        "print(f\"FBCCA Classification Accuracy: {1-(mis_cnt/240):.2%}\")"
      ]
    },
    {
      "cell_type": "markdown",
      "source": [
        "# EEGnet"
      ],
      "metadata": {
        "id": "tedAConDnWH4"
      }
    },
    {
      "cell_type": "markdown",
      "source": [
        "## Load data"
      ],
      "metadata": {
        "id": "cJfTWcIFtf1P"
      }
    },
    {
      "cell_type": "code",
      "source": [
        "import scipy.io\n",
        "import numpy as np\n",
        "\n",
        "# Load all subject\n",
        "raw_data = []\n",
        "\n",
        "for subject_i in range(35):\n",
        "    data_path = \"/content/drive/MyDrive/datasets/Benchmark/\"\n",
        "    filename = data_path + 'S'+str(subject_i+1)+'.mat'\n",
        "    file = scipy.io.loadmat(filename)\n",
        "    subject_data = file['data'].astype(np.float32)\n",
        "    raw_data.append(subject_data)\n",
        "\n",
        "raw_data_array = np.array(raw_data)\n",
        "#del raw_data"
      ],
      "metadata": {
        "id": "lNORMoOboFyp"
      },
      "execution_count": null,
      "outputs": []
    },
    {
      "cell_type": "code",
      "source": [
        "raw_data_array.shape"
      ],
      "metadata": {
        "id": "jDNrKA3ztYXm",
        "colab": {
          "base_uri": "https://localhost:8080/"
        },
        "outputId": "5caf3cda-10ea-4f9a-fbff-4ba6ba860e45"
      },
      "execution_count": null,
      "outputs": [
        {
          "output_type": "execute_result",
          "data": {
            "text/plain": [
              "(35, 64, 1500, 40, 6)"
            ]
          },
          "metadata": {},
          "execution_count": 67
        }
      ]
    },
    {
      "cell_type": "markdown",
      "source": [
        "## Data length 1 sec"
      ],
      "metadata": {
        "id": "vNYoQvRkIA3x"
      }
    },
    {
      "cell_type": "markdown",
      "source": [
        "- Using data stimulated by four frequencies: 8, 9, 10, and 11 Hz.\n",
        "- 35 participants are divided into three groups for training, validation, and - testing, with 21, 7, and 7 participants respectively.\n",
        "- Use one second of data, taking segments from each trial starting from 0.5 seconds to 5.5 seconds, with each trial being divided into five segments."
      ],
      "metadata": {
        "id": "CjasNqWOMJ2y"
      }
    },
    {
      "cell_type": "markdown",
      "source": [
        "### Process data"
      ],
      "metadata": {
        "id": "Z4p3Q_bVIQqu"
      }
    },
    {
      "cell_type": "markdown",
      "source": [
        "Data format:\n",
        "\n",
        "Datatype - float32 (both X and Y)  \n",
        "X.shape - (#samples, 1, #timepoints, #channels)  \n",
        "Y.shape - (#samples)"
      ],
      "metadata": {
        "id": "vmrPT6jE3MQv"
      }
    },
    {
      "cell_type": "code",
      "source": [
        "# use only 8, 9, 10, 11 Hz\n",
        "selected_targets = raw_data_array[:, :, :, :4, :]\n",
        "\n",
        "# initial label\n",
        "labels = np.array([8, 9, 10, 11])\n",
        "\n",
        "num_subjects = raw_data_array.shape[0]  # 35\n",
        "num_sessions = raw_data_array.shape[4]  # 6\n",
        "full_labels = np.tile(labels, (num_subjects, num_sessions, 1)).transpose(0, 2, 1)\n",
        "\n",
        "del raw_data_array\n",
        "\n",
        "train_data = selected_targets[:21]\n",
        "val_data = selected_targets[21:28]\n",
        "test_data = selected_targets[28:]\n",
        "\n",
        "train_labels = full_labels[:21]\n",
        "val_labels = full_labels[21:28]\n",
        "test_labels = full_labels[28:]"
      ],
      "metadata": {
        "id": "kgUwrkQtxJXr"
      },
      "execution_count": null,
      "outputs": []
    },
    {
      "cell_type": "code",
      "source": [
        "train_data.shape"
      ],
      "metadata": {
        "colab": {
          "base_uri": "https://localhost:8080/"
        },
        "id": "bRKVLr-z5P6h",
        "outputId": "9b31b9a6-a056-40d3-875a-3f1ef1387ed8"
      },
      "execution_count": null,
      "outputs": [
        {
          "output_type": "execute_result",
          "data": {
            "text/plain": [
              "(21, 64, 1500, 4, 6)"
            ]
          },
          "metadata": {},
          "execution_count": 69
        }
      ]
    },
    {
      "cell_type": "code",
      "source": [
        "def reshape_data(data, labels):\n",
        "    num_samples, num_channels, num_timepoints, num_targets, num_sessions = data.shape\n",
        "    data_reshaped = data.transpose(0, 3, 4, 1, 2).reshape(num_samples * num_targets * num_sessions, 1, num_timepoints, num_channels)\n",
        "\n",
        "    labels_reshaped = labels.reshape(-1)\n",
        "\n",
        "    return data_reshaped, labels_reshaped\n",
        "\n",
        "train_data_reshaped, train_labels_reshaped = reshape_data(train_data, train_labels)\n",
        "val_data_reshaped, val_labels_reshaped = reshape_data(val_data, val_labels)\n",
        "test_data_reshaped, test_labels_reshaped = reshape_data(test_data, test_labels)"
      ],
      "metadata": {
        "id": "tIuh9lBM19Sg"
      },
      "execution_count": null,
      "outputs": []
    },
    {
      "cell_type": "code",
      "source": [
        "def segment_data_reshaped(data, labels):\n",
        "    segmented_data = []\n",
        "    segmented_labels = []\n",
        "    start_sample = int(0.5 * 250)  # start at 0.5 sec\n",
        "    for segment in range(5):  # 1 sec -> 5 segments\n",
        "        segment_start = start_sample + segment * 250\n",
        "        segment_end = segment_start + 250\n",
        "        segmented_data.append(data[:, :, segment_start:segment_end, :])\n",
        "        segmented_labels.append(labels)\n",
        "\n",
        "    return np.array(segmented_data), np.array(segmented_labels)\n",
        "\n",
        "segmented_train_data, segmented_train_labels = segment_data_reshaped(train_data_reshaped, train_labels_reshaped)\n",
        "segmented_val_data, segmented_val_labels = segment_data_reshaped(val_data_reshaped, val_labels_reshaped)\n",
        "segmented_test_data, segmented_test_labels = segment_data_reshaped(test_data_reshaped, test_labels_reshaped)\n",
        "\n",
        "_, _, _, num_timepoints, num_channels = segmented_train_data.shape\n",
        "X_train = segmented_train_data.reshape(-1, 1, num_timepoints, num_channels)\n",
        "y_train = segmented_train_labels.reshape(-1)\n",
        "\n",
        "X_val = segmented_val_data.reshape(-1, 1, num_timepoints, num_channels)\n",
        "y_val = segmented_val_labels.reshape(-1)\n",
        "\n",
        "X_test = segmented_test_data.reshape(-1, 1, num_timepoints, num_channels)\n",
        "y_test = segmented_test_labels.reshape(-1)"
      ],
      "metadata": {
        "id": "U6EKfXVn4g_o"
      },
      "execution_count": null,
      "outputs": []
    },
    {
      "cell_type": "code",
      "source": [
        "def label_adjust(labels):\n",
        "    for i in range(len(labels)):\n",
        "        if labels[i] == 8:\n",
        "            labels[i] = 0\n",
        "        elif labels[i] == 9:\n",
        "            labels[i] = 1\n",
        "        elif labels[i] == 10:\n",
        "            labels[i] = 2\n",
        "        elif labels[i] == 11:\n",
        "            labels[i] = 3\n",
        "    return labels\n",
        "\n",
        "y_train = label_adjust(y_train)\n",
        "y_val = label_adjust(y_val)\n",
        "y_test = label_adjust(y_test)\n",
        "\n",
        "from tensorflow.keras.utils import to_categorical\n",
        "\n",
        "# Example\n",
        "y_train = to_categorical(y_train, num_classes=4)\n",
        "y_val = to_categorical(y_val, num_classes=4)\n",
        "y_test = to_categorical(y_test, num_classes=4)"
      ],
      "metadata": {
        "id": "Be8GSm6mCMdc"
      },
      "execution_count": null,
      "outputs": []
    },
    {
      "cell_type": "code",
      "source": [
        "X_train.shape"
      ],
      "metadata": {
        "colab": {
          "base_uri": "https://localhost:8080/"
        },
        "id": "cU-XWaUd5HpO",
        "outputId": "a2fc525d-747f-4cd9-b621-22fc6a1e8829"
      },
      "execution_count": null,
      "outputs": [
        {
          "output_type": "execute_result",
          "data": {
            "text/plain": [
              "(2520, 1, 250, 64)"
            ]
          },
          "metadata": {},
          "execution_count": 73
        }
      ]
    },
    {
      "cell_type": "markdown",
      "source": [
        "### EEGnet evaluation"
      ],
      "metadata": {
        "id": "jX7EZajrIbDi"
      }
    },
    {
      "cell_type": "code",
      "source": [
        "import tensorflow as tf\n",
        "from tensorflow.keras.models import Model\n",
        "from tensorflow.keras.layers import Input, Conv2D, BatchNormalization, Dense, Dropout, Flatten, ReLU, MaxPooling2D, Reshape, Permute\n",
        "\n",
        "from tensorflow.keras.layers import Activation\n",
        "\n",
        "def EEGNet(input_shape=(1, 250, 64)):\n",
        "    inputs = Input(shape=input_shape)\n",
        "\n",
        "    x = Conv2D(16, (1, 64), padding='valid', use_bias=False)(inputs)\n",
        "    x = BatchNormalization()(x)\n",
        "    x = Dropout(0.25)(x)\n",
        "    x = ReLU()(x)\n",
        "    x = Permute((3, 2, 1))(x)\n",
        "\n",
        "    x = tf.pad(x, paddings=tf.constant([[0, 0], [16, 17], [0, 1], [0, 0]]), mode=\"CONSTANT\")\n",
        "    x = Conv2D(4, (2, 32), use_bias=False)(x)\n",
        "    x = BatchNormalization()(x)\n",
        "    x = Dropout(0.25)(x)\n",
        "    x = ReLU()(x)\n",
        "    x = MaxPooling2D((2, 4))(x)\n",
        "\n",
        "    x = tf.pad(x, paddings=tf.constant([[0, 0], [2, 1], [4, 3], [0, 0]]), mode=\"CONSTANT\")\n",
        "    x = Conv2D(4, (8, 4), use_bias=False)(x)\n",
        "    x = BatchNormalization()(x)\n",
        "    x = Dropout(0.25)(x)\n",
        "    x = ReLU()(x)\n",
        "    x = MaxPooling2D((2, 4))(x)\n",
        "\n",
        "    x = Flatten()(x)\n",
        "    x = Dense(4)(x)  # Change the number of output units to 4 for 4 classes\n",
        "    x = Activation('softmax')(x)  # Use softmax activation\n",
        "\n",
        "    model = Model(inputs=inputs, outputs=x)\n",
        "    return model\n",
        "\n",
        "model = EEGNet()\n",
        "model.compile(loss='categorical_crossentropy', optimizer='adam', metrics=['accuracy'])\n",
        "model.summary()\n",
        "\n",
        "history = model.fit(X_train, y_train, batch_size=64, epochs=200, validation_data=(X_val, y_val), verbose=2)\n",
        "\n",
        "# evaluate model\n",
        "scores = model.evaluate(X_test, y_test, verbose=2)\n",
        "print(f\"Test accuracy: {scores[1]}\")\n"
      ],
      "metadata": {
        "colab": {
          "base_uri": "https://localhost:8080/"
        },
        "id": "EBS6Qv-lA5vy",
        "outputId": "77de9756-82ce-4d50-e777-ecfe72368dc1"
      },
      "execution_count": null,
      "outputs": [
        {
          "output_type": "stream",
          "name": "stdout",
          "text": [
            "Model: \"model_12\"\n",
            "_________________________________________________________________\n",
            " Layer (type)                Output Shape              Param #   \n",
            "=================================================================\n",
            " input_13 (InputLayer)       [(None, 1, 250, 64)]      0         \n",
            "                                                                 \n",
            " conv2d_36 (Conv2D)          (None, 1, 187, 16)        65536     \n",
            "                                                                 \n",
            " batch_normalization_36 (Ba  (None, 1, 187, 16)        64        \n",
            " tchNormalization)                                               \n",
            "                                                                 \n",
            " dropout_36 (Dropout)        (None, 1, 187, 16)        0         \n",
            "                                                                 \n",
            " re_lu_36 (ReLU)             (None, 1, 187, 16)        0         \n",
            "                                                                 \n",
            " permute_12 (Permute)        (None, 16, 187, 1)        0         \n",
            "                                                                 \n",
            " tf.compat.v1.pad_24 (TFOpL  (None, 49, 188, 1)        0         \n",
            " ambda)                                                          \n",
            "                                                                 \n",
            " conv2d_37 (Conv2D)          (None, 48, 157, 4)        256       \n",
            "                                                                 \n",
            " batch_normalization_37 (Ba  (None, 48, 157, 4)        16        \n",
            " tchNormalization)                                               \n",
            "                                                                 \n",
            " dropout_37 (Dropout)        (None, 48, 157, 4)        0         \n",
            "                                                                 \n",
            " re_lu_37 (ReLU)             (None, 48, 157, 4)        0         \n",
            "                                                                 \n",
            " max_pooling2d_24 (MaxPooli  (None, 24, 39, 4)         0         \n",
            " ng2D)                                                           \n",
            "                                                                 \n",
            " tf.compat.v1.pad_25 (TFOpL  (None, 27, 46, 4)         0         \n",
            " ambda)                                                          \n",
            "                                                                 \n",
            " conv2d_38 (Conv2D)          (None, 20, 43, 4)         512       \n",
            "                                                                 \n",
            " batch_normalization_38 (Ba  (None, 20, 43, 4)         16        \n",
            " tchNormalization)                                               \n",
            "                                                                 \n",
            " dropout_38 (Dropout)        (None, 20, 43, 4)         0         \n",
            "                                                                 \n",
            " re_lu_38 (ReLU)             (None, 20, 43, 4)         0         \n",
            "                                                                 \n",
            " max_pooling2d_25 (MaxPooli  (None, 10, 10, 4)         0         \n",
            " ng2D)                                                           \n",
            "                                                                 \n",
            " flatten_12 (Flatten)        (None, 400)               0         \n",
            "                                                                 \n",
            " dense_12 (Dense)            (None, 4)                 1604      \n",
            "                                                                 \n",
            " activation_7 (Activation)   (None, 4)                 0         \n",
            "                                                                 \n",
            "=================================================================\n",
            "Total params: 68004 (265.64 KB)\n",
            "Trainable params: 67956 (265.45 KB)\n",
            "Non-trainable params: 48 (192.00 Byte)\n",
            "_________________________________________________________________\n",
            "Epoch 1/200\n",
            "40/40 - 2s - loss: 1.5551 - accuracy: 0.2556 - val_loss: 1.3919 - val_accuracy: 0.2333 - 2s/epoch - 57ms/step\n",
            "Epoch 2/200\n",
            "40/40 - 0s - loss: 1.4130 - accuracy: 0.2591 - val_loss: 1.3917 - val_accuracy: 0.2440 - 285ms/epoch - 7ms/step\n",
            "Epoch 3/200\n",
            "40/40 - 0s - loss: 1.4317 - accuracy: 0.2492 - val_loss: 1.3862 - val_accuracy: 0.2667 - 281ms/epoch - 7ms/step\n",
            "Epoch 4/200\n",
            "40/40 - 0s - loss: 1.3916 - accuracy: 0.2587 - val_loss: 1.3873 - val_accuracy: 0.2690 - 281ms/epoch - 7ms/step\n",
            "Epoch 5/200\n",
            "40/40 - 0s - loss: 1.3943 - accuracy: 0.2865 - val_loss: 1.3846 - val_accuracy: 0.2857 - 298ms/epoch - 7ms/step\n",
            "Epoch 6/200\n",
            "40/40 - 0s - loss: 1.3885 - accuracy: 0.2802 - val_loss: 1.3848 - val_accuracy: 0.2571 - 289ms/epoch - 7ms/step\n",
            "Epoch 7/200\n",
            "40/40 - 0s - loss: 1.3802 - accuracy: 0.2976 - val_loss: 1.3853 - val_accuracy: 0.2607 - 293ms/epoch - 7ms/step\n",
            "Epoch 8/200\n",
            "40/40 - 0s - loss: 1.3788 - accuracy: 0.3012 - val_loss: 1.3880 - val_accuracy: 0.2524 - 293ms/epoch - 7ms/step\n",
            "Epoch 9/200\n",
            "40/40 - 0s - loss: 1.3711 - accuracy: 0.3063 - val_loss: 1.3802 - val_accuracy: 0.2881 - 292ms/epoch - 7ms/step\n",
            "Epoch 10/200\n",
            "40/40 - 0s - loss: 1.3610 - accuracy: 0.3218 - val_loss: 1.3809 - val_accuracy: 0.2786 - 293ms/epoch - 7ms/step\n",
            "Epoch 11/200\n",
            "40/40 - 0s - loss: 1.3695 - accuracy: 0.3123 - val_loss: 1.3851 - val_accuracy: 0.2869 - 286ms/epoch - 7ms/step\n",
            "Epoch 12/200\n",
            "40/40 - 0s - loss: 1.3524 - accuracy: 0.3337 - val_loss: 1.3767 - val_accuracy: 0.2905 - 293ms/epoch - 7ms/step\n",
            "Epoch 13/200\n",
            "40/40 - 0s - loss: 1.3548 - accuracy: 0.3532 - val_loss: 1.3809 - val_accuracy: 0.2869 - 293ms/epoch - 7ms/step\n",
            "Epoch 14/200\n",
            "40/40 - 0s - loss: 1.3545 - accuracy: 0.3369 - val_loss: 1.3761 - val_accuracy: 0.3060 - 284ms/epoch - 7ms/step\n",
            "Epoch 15/200\n",
            "40/40 - 0s - loss: 1.3473 - accuracy: 0.3310 - val_loss: 1.3753 - val_accuracy: 0.3024 - 288ms/epoch - 7ms/step\n",
            "Epoch 16/200\n",
            "40/40 - 0s - loss: 1.3406 - accuracy: 0.3571 - val_loss: 1.3732 - val_accuracy: 0.3012 - 282ms/epoch - 7ms/step\n",
            "Epoch 17/200\n",
            "40/40 - 0s - loss: 1.3227 - accuracy: 0.3540 - val_loss: 1.3712 - val_accuracy: 0.2952 - 286ms/epoch - 7ms/step\n",
            "Epoch 18/200\n",
            "40/40 - 0s - loss: 1.3256 - accuracy: 0.3611 - val_loss: 1.3568 - val_accuracy: 0.3321 - 280ms/epoch - 7ms/step\n",
            "Epoch 19/200\n",
            "40/40 - 0s - loss: 1.3094 - accuracy: 0.3655 - val_loss: 1.3609 - val_accuracy: 0.2988 - 282ms/epoch - 7ms/step\n",
            "Epoch 20/200\n",
            "40/40 - 0s - loss: 1.3073 - accuracy: 0.3810 - val_loss: 1.3543 - val_accuracy: 0.3095 - 280ms/epoch - 7ms/step\n",
            "Epoch 21/200\n",
            "40/40 - 0s - loss: 1.3008 - accuracy: 0.3825 - val_loss: 1.3576 - val_accuracy: 0.3167 - 280ms/epoch - 7ms/step\n",
            "Epoch 22/200\n",
            "40/40 - 0s - loss: 1.2960 - accuracy: 0.4016 - val_loss: 1.3464 - val_accuracy: 0.3274 - 281ms/epoch - 7ms/step\n",
            "Epoch 23/200\n",
            "40/40 - 0s - loss: 1.2840 - accuracy: 0.3952 - val_loss: 1.3426 - val_accuracy: 0.3369 - 282ms/epoch - 7ms/step\n",
            "Epoch 24/200\n",
            "40/40 - 0s - loss: 1.2761 - accuracy: 0.4036 - val_loss: 1.3463 - val_accuracy: 0.3250 - 282ms/epoch - 7ms/step\n",
            "Epoch 25/200\n",
            "40/40 - 0s - loss: 1.2387 - accuracy: 0.4278 - val_loss: 1.3569 - val_accuracy: 0.2929 - 277ms/epoch - 7ms/step\n",
            "Epoch 26/200\n",
            "40/40 - 0s - loss: 1.2410 - accuracy: 0.4317 - val_loss: 1.3327 - val_accuracy: 0.3488 - 284ms/epoch - 7ms/step\n",
            "Epoch 27/200\n",
            "40/40 - 0s - loss: 1.2184 - accuracy: 0.4532 - val_loss: 1.3301 - val_accuracy: 0.3357 - 278ms/epoch - 7ms/step\n",
            "Epoch 28/200\n",
            "40/40 - 0s - loss: 1.2311 - accuracy: 0.4385 - val_loss: 1.2868 - val_accuracy: 0.3976 - 284ms/epoch - 7ms/step\n",
            "Epoch 29/200\n",
            "40/40 - 0s - loss: 1.2406 - accuracy: 0.4302 - val_loss: 1.2848 - val_accuracy: 0.4048 - 279ms/epoch - 7ms/step\n",
            "Epoch 30/200\n",
            "40/40 - 0s - loss: 1.1888 - accuracy: 0.4631 - val_loss: 1.2962 - val_accuracy: 0.3821 - 283ms/epoch - 7ms/step\n",
            "Epoch 31/200\n",
            "40/40 - 0s - loss: 1.1721 - accuracy: 0.4675 - val_loss: 1.2778 - val_accuracy: 0.4298 - 286ms/epoch - 7ms/step\n",
            "Epoch 32/200\n",
            "40/40 - 0s - loss: 1.1350 - accuracy: 0.4984 - val_loss: 1.2707 - val_accuracy: 0.3917 - 279ms/epoch - 7ms/step\n",
            "Epoch 33/200\n",
            "40/40 - 0s - loss: 1.1346 - accuracy: 0.4984 - val_loss: 1.2490 - val_accuracy: 0.3881 - 284ms/epoch - 7ms/step\n",
            "Epoch 34/200\n",
            "40/40 - 0s - loss: 1.1243 - accuracy: 0.5115 - val_loss: 1.2344 - val_accuracy: 0.4119 - 280ms/epoch - 7ms/step\n",
            "Epoch 35/200\n",
            "40/40 - 0s - loss: 1.0734 - accuracy: 0.5401 - val_loss: 1.2051 - val_accuracy: 0.4429 - 281ms/epoch - 7ms/step\n",
            "Epoch 36/200\n",
            "40/40 - 0s - loss: 1.0919 - accuracy: 0.5321 - val_loss: 1.2123 - val_accuracy: 0.4250 - 279ms/epoch - 7ms/step\n",
            "Epoch 37/200\n",
            "40/40 - 0s - loss: 1.0662 - accuracy: 0.5286 - val_loss: 1.2115 - val_accuracy: 0.4238 - 284ms/epoch - 7ms/step\n",
            "Epoch 38/200\n",
            "40/40 - 0s - loss: 1.0620 - accuracy: 0.5349 - val_loss: 1.1896 - val_accuracy: 0.4643 - 281ms/epoch - 7ms/step\n",
            "Epoch 39/200\n",
            "40/40 - 0s - loss: 1.0432 - accuracy: 0.5468 - val_loss: 1.1840 - val_accuracy: 0.4595 - 280ms/epoch - 7ms/step\n",
            "Epoch 40/200\n",
            "40/40 - 0s - loss: 1.0457 - accuracy: 0.5401 - val_loss: 1.1938 - val_accuracy: 0.4607 - 279ms/epoch - 7ms/step\n",
            "Epoch 41/200\n",
            "40/40 - 0s - loss: 1.0537 - accuracy: 0.5365 - val_loss: 1.1924 - val_accuracy: 0.4714 - 281ms/epoch - 7ms/step\n",
            "Epoch 42/200\n",
            "40/40 - 0s - loss: 1.0212 - accuracy: 0.5635 - val_loss: 1.1908 - val_accuracy: 0.4833 - 278ms/epoch - 7ms/step\n",
            "Epoch 43/200\n",
            "40/40 - 0s - loss: 1.0303 - accuracy: 0.5599 - val_loss: 1.1755 - val_accuracy: 0.4690 - 282ms/epoch - 7ms/step\n",
            "Epoch 44/200\n",
            "40/40 - 0s - loss: 0.9804 - accuracy: 0.5889 - val_loss: 1.1529 - val_accuracy: 0.4929 - 286ms/epoch - 7ms/step\n",
            "Epoch 45/200\n",
            "40/40 - 0s - loss: 0.9629 - accuracy: 0.5944 - val_loss: 1.1275 - val_accuracy: 0.4869 - 284ms/epoch - 7ms/step\n",
            "Epoch 46/200\n",
            "40/40 - 0s - loss: 0.9180 - accuracy: 0.6278 - val_loss: 1.1510 - val_accuracy: 0.4940 - 282ms/epoch - 7ms/step\n",
            "Epoch 47/200\n",
            "40/40 - 0s - loss: 0.9518 - accuracy: 0.6056 - val_loss: 1.1471 - val_accuracy: 0.4833 - 281ms/epoch - 7ms/step\n",
            "Epoch 48/200\n",
            "40/40 - 0s - loss: 0.8942 - accuracy: 0.6405 - val_loss: 1.1098 - val_accuracy: 0.5286 - 286ms/epoch - 7ms/step\n",
            "Epoch 49/200\n",
            "40/40 - 0s - loss: 0.9368 - accuracy: 0.6103 - val_loss: 1.1096 - val_accuracy: 0.5143 - 293ms/epoch - 7ms/step\n",
            "Epoch 50/200\n",
            "40/40 - 0s - loss: 0.9097 - accuracy: 0.6278 - val_loss: 1.0657 - val_accuracy: 0.5536 - 287ms/epoch - 7ms/step\n",
            "Epoch 51/200\n",
            "40/40 - 0s - loss: 0.8978 - accuracy: 0.6373 - val_loss: 1.0753 - val_accuracy: 0.5274 - 304ms/epoch - 8ms/step\n",
            "Epoch 52/200\n",
            "40/40 - 0s - loss: 0.8566 - accuracy: 0.6552 - val_loss: 1.0701 - val_accuracy: 0.5345 - 294ms/epoch - 7ms/step\n",
            "Epoch 53/200\n",
            "40/40 - 0s - loss: 0.8054 - accuracy: 0.6726 - val_loss: 1.0486 - val_accuracy: 0.5679 - 285ms/epoch - 7ms/step\n",
            "Epoch 54/200\n",
            "40/40 - 0s - loss: 0.8037 - accuracy: 0.6762 - val_loss: 1.0185 - val_accuracy: 0.5821 - 290ms/epoch - 7ms/step\n",
            "Epoch 55/200\n",
            "40/40 - 0s - loss: 0.7998 - accuracy: 0.6893 - val_loss: 1.0164 - val_accuracy: 0.5821 - 292ms/epoch - 7ms/step\n",
            "Epoch 56/200\n",
            "40/40 - 0s - loss: 0.7946 - accuracy: 0.6873 - val_loss: 0.9953 - val_accuracy: 0.6036 - 290ms/epoch - 7ms/step\n",
            "Epoch 57/200\n",
            "40/40 - 0s - loss: 0.7534 - accuracy: 0.7099 - val_loss: 0.9804 - val_accuracy: 0.5952 - 286ms/epoch - 7ms/step\n",
            "Epoch 58/200\n",
            "40/40 - 0s - loss: 0.7476 - accuracy: 0.7063 - val_loss: 0.9817 - val_accuracy: 0.5964 - 286ms/epoch - 7ms/step\n",
            "Epoch 59/200\n",
            "40/40 - 0s - loss: 0.7434 - accuracy: 0.7103 - val_loss: 0.9710 - val_accuracy: 0.5845 - 287ms/epoch - 7ms/step\n",
            "Epoch 60/200\n",
            "40/40 - 0s - loss: 0.7175 - accuracy: 0.7210 - val_loss: 0.9624 - val_accuracy: 0.6024 - 294ms/epoch - 7ms/step\n",
            "Epoch 61/200\n",
            "40/40 - 0s - loss: 0.6753 - accuracy: 0.7425 - val_loss: 0.9566 - val_accuracy: 0.6024 - 284ms/epoch - 7ms/step\n",
            "Epoch 62/200\n",
            "40/40 - 0s - loss: 0.7648 - accuracy: 0.7115 - val_loss: 0.9568 - val_accuracy: 0.6179 - 284ms/epoch - 7ms/step\n",
            "Epoch 63/200\n",
            "40/40 - 0s - loss: 0.7187 - accuracy: 0.7175 - val_loss: 0.9671 - val_accuracy: 0.6131 - 277ms/epoch - 7ms/step\n",
            "Epoch 64/200\n",
            "40/40 - 0s - loss: 0.7280 - accuracy: 0.7135 - val_loss: 0.9693 - val_accuracy: 0.6060 - 280ms/epoch - 7ms/step\n",
            "Epoch 65/200\n",
            "40/40 - 0s - loss: 0.6306 - accuracy: 0.7579 - val_loss: 0.9606 - val_accuracy: 0.6012 - 288ms/epoch - 7ms/step\n",
            "Epoch 66/200\n",
            "40/40 - 0s - loss: 0.5912 - accuracy: 0.7778 - val_loss: 0.9506 - val_accuracy: 0.5976 - 290ms/epoch - 7ms/step\n",
            "Epoch 67/200\n",
            "40/40 - 0s - loss: 0.6699 - accuracy: 0.7421 - val_loss: 0.9132 - val_accuracy: 0.6143 - 290ms/epoch - 7ms/step\n",
            "Epoch 68/200\n",
            "40/40 - 0s - loss: 0.6319 - accuracy: 0.7575 - val_loss: 0.9233 - val_accuracy: 0.6048 - 284ms/epoch - 7ms/step\n",
            "Epoch 69/200\n",
            "40/40 - 0s - loss: 0.5834 - accuracy: 0.7742 - val_loss: 0.9294 - val_accuracy: 0.6131 - 279ms/epoch - 7ms/step\n",
            "Epoch 70/200\n",
            "40/40 - 0s - loss: 0.6595 - accuracy: 0.7464 - val_loss: 0.9335 - val_accuracy: 0.6048 - 281ms/epoch - 7ms/step\n",
            "Epoch 71/200\n",
            "40/40 - 0s - loss: 0.6316 - accuracy: 0.7571 - val_loss: 0.9532 - val_accuracy: 0.5964 - 280ms/epoch - 7ms/step\n",
            "Epoch 72/200\n",
            "40/40 - 0s - loss: 0.5524 - accuracy: 0.8004 - val_loss: 0.9491 - val_accuracy: 0.5964 - 294ms/epoch - 7ms/step\n",
            "Epoch 73/200\n",
            "40/40 - 0s - loss: 0.5572 - accuracy: 0.7893 - val_loss: 0.9380 - val_accuracy: 0.6131 - 278ms/epoch - 7ms/step\n",
            "Epoch 74/200\n",
            "40/40 - 0s - loss: 0.5655 - accuracy: 0.7829 - val_loss: 0.9296 - val_accuracy: 0.6024 - 279ms/epoch - 7ms/step\n",
            "Epoch 75/200\n",
            "40/40 - 0s - loss: 0.5767 - accuracy: 0.7897 - val_loss: 0.9367 - val_accuracy: 0.6012 - 281ms/epoch - 7ms/step\n",
            "Epoch 76/200\n",
            "40/40 - 0s - loss: 0.5566 - accuracy: 0.7952 - val_loss: 0.9745 - val_accuracy: 0.5774 - 287ms/epoch - 7ms/step\n",
            "Epoch 77/200\n",
            "40/40 - 0s - loss: 0.5243 - accuracy: 0.7944 - val_loss: 0.9194 - val_accuracy: 0.5988 - 281ms/epoch - 7ms/step\n",
            "Epoch 78/200\n",
            "40/40 - 0s - loss: 0.4910 - accuracy: 0.8147 - val_loss: 0.9039 - val_accuracy: 0.6238 - 280ms/epoch - 7ms/step\n",
            "Epoch 79/200\n",
            "40/40 - 0s - loss: 0.4817 - accuracy: 0.8206 - val_loss: 0.9213 - val_accuracy: 0.6060 - 289ms/epoch - 7ms/step\n",
            "Epoch 80/200\n",
            "40/40 - 0s - loss: 0.5420 - accuracy: 0.8032 - val_loss: 0.9182 - val_accuracy: 0.6048 - 282ms/epoch - 7ms/step\n",
            "Epoch 81/200\n",
            "40/40 - 0s - loss: 0.5247 - accuracy: 0.8024 - val_loss: 0.9265 - val_accuracy: 0.5952 - 278ms/epoch - 7ms/step\n",
            "Epoch 82/200\n",
            "40/40 - 0s - loss: 0.4503 - accuracy: 0.8321 - val_loss: 0.9186 - val_accuracy: 0.5893 - 277ms/epoch - 7ms/step\n",
            "Epoch 83/200\n",
            "40/40 - 0s - loss: 0.4929 - accuracy: 0.8222 - val_loss: 0.9004 - val_accuracy: 0.6262 - 288ms/epoch - 7ms/step\n",
            "Epoch 84/200\n",
            "40/40 - 0s - loss: 0.4681 - accuracy: 0.8214 - val_loss: 0.8963 - val_accuracy: 0.6167 - 278ms/epoch - 7ms/step\n",
            "Epoch 85/200\n",
            "40/40 - 0s - loss: 0.4488 - accuracy: 0.8345 - val_loss: 0.9186 - val_accuracy: 0.6036 - 280ms/epoch - 7ms/step\n",
            "Epoch 86/200\n",
            "40/40 - 0s - loss: 0.4517 - accuracy: 0.8389 - val_loss: 0.9389 - val_accuracy: 0.5976 - 283ms/epoch - 7ms/step\n",
            "Epoch 87/200\n",
            "40/40 - 0s - loss: 0.4470 - accuracy: 0.8321 - val_loss: 0.9187 - val_accuracy: 0.6226 - 289ms/epoch - 7ms/step\n",
            "Epoch 88/200\n",
            "40/40 - 0s - loss: 0.4253 - accuracy: 0.8496 - val_loss: 0.9288 - val_accuracy: 0.6071 - 282ms/epoch - 7ms/step\n",
            "Epoch 89/200\n",
            "40/40 - 0s - loss: 0.4261 - accuracy: 0.8452 - val_loss: 0.9195 - val_accuracy: 0.6143 - 281ms/epoch - 7ms/step\n",
            "Epoch 90/200\n",
            "40/40 - 0s - loss: 0.4331 - accuracy: 0.8341 - val_loss: 0.9278 - val_accuracy: 0.6095 - 282ms/epoch - 7ms/step\n",
            "Epoch 91/200\n",
            "40/40 - 0s - loss: 0.4293 - accuracy: 0.8405 - val_loss: 0.9109 - val_accuracy: 0.6190 - 281ms/epoch - 7ms/step\n",
            "Epoch 92/200\n",
            "40/40 - 0s - loss: 0.3721 - accuracy: 0.8639 - val_loss: 0.9457 - val_accuracy: 0.6214 - 288ms/epoch - 7ms/step\n",
            "Epoch 93/200\n",
            "40/40 - 0s - loss: 0.4059 - accuracy: 0.8560 - val_loss: 0.9248 - val_accuracy: 0.6083 - 294ms/epoch - 7ms/step\n",
            "Epoch 94/200\n",
            "40/40 - 0s - loss: 0.3881 - accuracy: 0.8615 - val_loss: 0.9092 - val_accuracy: 0.6143 - 291ms/epoch - 7ms/step\n",
            "Epoch 95/200\n",
            "40/40 - 0s - loss: 0.3999 - accuracy: 0.8488 - val_loss: 0.9104 - val_accuracy: 0.6167 - 289ms/epoch - 7ms/step\n",
            "Epoch 96/200\n",
            "40/40 - 0s - loss: 0.3780 - accuracy: 0.8687 - val_loss: 0.9223 - val_accuracy: 0.6131 - 291ms/epoch - 7ms/step\n",
            "Epoch 97/200\n",
            "40/40 - 0s - loss: 0.3554 - accuracy: 0.8702 - val_loss: 0.9316 - val_accuracy: 0.5940 - 310ms/epoch - 8ms/step\n",
            "Epoch 98/200\n",
            "40/40 - 0s - loss: 0.3601 - accuracy: 0.8714 - val_loss: 0.9442 - val_accuracy: 0.5964 - 294ms/epoch - 7ms/step\n",
            "Epoch 99/200\n",
            "40/40 - 0s - loss: 0.3826 - accuracy: 0.8643 - val_loss: 0.9375 - val_accuracy: 0.6083 - 290ms/epoch - 7ms/step\n",
            "Epoch 100/200\n",
            "40/40 - 0s - loss: 0.3546 - accuracy: 0.8694 - val_loss: 0.9624 - val_accuracy: 0.6036 - 293ms/epoch - 7ms/step\n",
            "Epoch 101/200\n",
            "40/40 - 0s - loss: 0.3617 - accuracy: 0.8623 - val_loss: 0.9660 - val_accuracy: 0.5976 - 288ms/epoch - 7ms/step\n",
            "Epoch 102/200\n",
            "40/40 - 0s - loss: 0.3721 - accuracy: 0.8655 - val_loss: 0.9362 - val_accuracy: 0.6012 - 283ms/epoch - 7ms/step\n",
            "Epoch 103/200\n",
            "40/40 - 0s - loss: 0.3344 - accuracy: 0.8758 - val_loss: 0.9388 - val_accuracy: 0.6095 - 288ms/epoch - 7ms/step\n",
            "Epoch 104/200\n",
            "40/40 - 0s - loss: 0.3349 - accuracy: 0.8817 - val_loss: 0.9305 - val_accuracy: 0.6119 - 289ms/epoch - 7ms/step\n",
            "Epoch 105/200\n",
            "40/40 - 0s - loss: 0.3128 - accuracy: 0.8869 - val_loss: 0.9533 - val_accuracy: 0.6095 - 280ms/epoch - 7ms/step\n",
            "Epoch 106/200\n",
            "40/40 - 0s - loss: 0.3421 - accuracy: 0.8714 - val_loss: 0.9402 - val_accuracy: 0.6083 - 280ms/epoch - 7ms/step\n",
            "Epoch 107/200\n",
            "40/40 - 0s - loss: 0.3491 - accuracy: 0.8714 - val_loss: 0.9548 - val_accuracy: 0.6107 - 281ms/epoch - 7ms/step\n",
            "Epoch 108/200\n",
            "40/40 - 0s - loss: 0.3090 - accuracy: 0.8853 - val_loss: 0.9992 - val_accuracy: 0.5774 - 282ms/epoch - 7ms/step\n",
            "Epoch 109/200\n",
            "40/40 - 0s - loss: 0.3055 - accuracy: 0.8913 - val_loss: 0.9657 - val_accuracy: 0.6060 - 282ms/epoch - 7ms/step\n",
            "Epoch 110/200\n",
            "40/40 - 0s - loss: 0.3416 - accuracy: 0.8766 - val_loss: 0.9645 - val_accuracy: 0.6048 - 280ms/epoch - 7ms/step\n",
            "Epoch 111/200\n",
            "40/40 - 0s - loss: 0.3687 - accuracy: 0.8639 - val_loss: 0.9475 - val_accuracy: 0.6095 - 281ms/epoch - 7ms/step\n",
            "Epoch 112/200\n",
            "40/40 - 0s - loss: 0.3306 - accuracy: 0.8833 - val_loss: 0.9342 - val_accuracy: 0.6190 - 281ms/epoch - 7ms/step\n",
            "Epoch 113/200\n",
            "40/40 - 0s - loss: 0.2844 - accuracy: 0.9028 - val_loss: 0.9793 - val_accuracy: 0.6024 - 282ms/epoch - 7ms/step\n",
            "Epoch 114/200\n",
            "40/40 - 0s - loss: 0.3314 - accuracy: 0.8774 - val_loss: 0.9888 - val_accuracy: 0.5988 - 282ms/epoch - 7ms/step\n",
            "Epoch 115/200\n",
            "40/40 - 0s - loss: 0.3052 - accuracy: 0.8877 - val_loss: 0.9962 - val_accuracy: 0.6000 - 278ms/epoch - 7ms/step\n",
            "Epoch 116/200\n",
            "40/40 - 0s - loss: 0.3414 - accuracy: 0.8750 - val_loss: 1.0083 - val_accuracy: 0.5905 - 283ms/epoch - 7ms/step\n",
            "Epoch 117/200\n",
            "40/40 - 0s - loss: 0.3160 - accuracy: 0.8952 - val_loss: 0.9641 - val_accuracy: 0.6000 - 282ms/epoch - 7ms/step\n",
            "Epoch 118/200\n",
            "40/40 - 0s - loss: 0.2998 - accuracy: 0.8996 - val_loss: 0.9646 - val_accuracy: 0.5869 - 278ms/epoch - 7ms/step\n",
            "Epoch 119/200\n",
            "40/40 - 0s - loss: 0.2709 - accuracy: 0.9016 - val_loss: 0.9558 - val_accuracy: 0.6060 - 280ms/epoch - 7ms/step\n",
            "Epoch 120/200\n",
            "40/40 - 0s - loss: 0.2900 - accuracy: 0.8893 - val_loss: 0.9537 - val_accuracy: 0.6048 - 278ms/epoch - 7ms/step\n",
            "Epoch 121/200\n",
            "40/40 - 0s - loss: 0.3052 - accuracy: 0.8885 - val_loss: 1.0467 - val_accuracy: 0.5893 - 282ms/epoch - 7ms/step\n",
            "Epoch 122/200\n",
            "40/40 - 0s - loss: 0.2535 - accuracy: 0.9147 - val_loss: 1.0206 - val_accuracy: 0.5929 - 283ms/epoch - 7ms/step\n",
            "Epoch 123/200\n",
            "40/40 - 0s - loss: 0.2810 - accuracy: 0.8972 - val_loss: 1.0277 - val_accuracy: 0.5917 - 286ms/epoch - 7ms/step\n",
            "Epoch 124/200\n",
            "40/40 - 0s - loss: 0.2638 - accuracy: 0.9115 - val_loss: 1.0011 - val_accuracy: 0.6143 - 278ms/epoch - 7ms/step\n",
            "Epoch 125/200\n",
            "40/40 - 0s - loss: 0.2637 - accuracy: 0.9067 - val_loss: 0.9604 - val_accuracy: 0.6107 - 279ms/epoch - 7ms/step\n",
            "Epoch 126/200\n",
            "40/40 - 0s - loss: 0.2620 - accuracy: 0.9079 - val_loss: 0.9868 - val_accuracy: 0.6048 - 281ms/epoch - 7ms/step\n",
            "Epoch 127/200\n",
            "40/40 - 0s - loss: 0.3129 - accuracy: 0.8897 - val_loss: 0.9677 - val_accuracy: 0.6214 - 281ms/epoch - 7ms/step\n",
            "Epoch 128/200\n",
            "40/40 - 0s - loss: 0.2399 - accuracy: 0.9206 - val_loss: 1.0082 - val_accuracy: 0.6083 - 279ms/epoch - 7ms/step\n",
            "Epoch 129/200\n",
            "40/40 - 0s - loss: 0.3856 - accuracy: 0.8567 - val_loss: 0.9867 - val_accuracy: 0.6060 - 282ms/epoch - 7ms/step\n",
            "Epoch 130/200\n",
            "40/40 - 0s - loss: 0.2551 - accuracy: 0.9107 - val_loss: 0.9852 - val_accuracy: 0.6024 - 282ms/epoch - 7ms/step\n",
            "Epoch 131/200\n",
            "40/40 - 0s - loss: 0.2491 - accuracy: 0.9071 - val_loss: 1.0186 - val_accuracy: 0.6048 - 283ms/epoch - 7ms/step\n",
            "Epoch 132/200\n",
            "40/40 - 0s - loss: 0.2636 - accuracy: 0.9056 - val_loss: 1.0237 - val_accuracy: 0.5964 - 278ms/epoch - 7ms/step\n",
            "Epoch 133/200\n",
            "40/40 - 0s - loss: 0.2453 - accuracy: 0.9163 - val_loss: 1.0288 - val_accuracy: 0.6012 - 280ms/epoch - 7ms/step\n",
            "Epoch 134/200\n",
            "40/40 - 0s - loss: 0.2483 - accuracy: 0.9127 - val_loss: 0.9870 - val_accuracy: 0.6167 - 282ms/epoch - 7ms/step\n",
            "Epoch 135/200\n",
            "40/40 - 0s - loss: 0.2455 - accuracy: 0.9143 - val_loss: 1.0260 - val_accuracy: 0.6012 - 292ms/epoch - 7ms/step\n",
            "Epoch 136/200\n",
            "40/40 - 0s - loss: 0.2475 - accuracy: 0.9111 - val_loss: 1.0203 - val_accuracy: 0.5976 - 288ms/epoch - 7ms/step\n",
            "Epoch 137/200\n",
            "40/40 - 0s - loss: 0.2488 - accuracy: 0.9119 - val_loss: 1.0512 - val_accuracy: 0.5940 - 292ms/epoch - 7ms/step\n",
            "Epoch 138/200\n",
            "40/40 - 0s - loss: 0.2067 - accuracy: 0.9337 - val_loss: 1.0389 - val_accuracy: 0.5905 - 284ms/epoch - 7ms/step\n",
            "Epoch 139/200\n",
            "40/40 - 0s - loss: 0.2566 - accuracy: 0.9075 - val_loss: 1.0546 - val_accuracy: 0.5738 - 286ms/epoch - 7ms/step\n",
            "Epoch 140/200\n",
            "40/40 - 0s - loss: 0.2258 - accuracy: 0.9175 - val_loss: 1.0304 - val_accuracy: 0.5893 - 287ms/epoch - 7ms/step\n",
            "Epoch 141/200\n",
            "40/40 - 0s - loss: 0.2530 - accuracy: 0.9056 - val_loss: 1.0496 - val_accuracy: 0.5869 - 288ms/epoch - 7ms/step\n",
            "Epoch 142/200\n",
            "40/40 - 0s - loss: 0.2107 - accuracy: 0.9250 - val_loss: 1.0429 - val_accuracy: 0.5893 - 295ms/epoch - 7ms/step\n",
            "Epoch 143/200\n",
            "40/40 - 0s - loss: 0.2468 - accuracy: 0.9087 - val_loss: 1.0233 - val_accuracy: 0.6036 - 293ms/epoch - 7ms/step\n",
            "Epoch 144/200\n",
            "40/40 - 0s - loss: 0.2390 - accuracy: 0.9099 - val_loss: 1.0449 - val_accuracy: 0.6048 - 285ms/epoch - 7ms/step\n",
            "Epoch 145/200\n",
            "40/40 - 0s - loss: 0.2353 - accuracy: 0.9159 - val_loss: 1.0702 - val_accuracy: 0.5869 - 289ms/epoch - 7ms/step\n",
            "Epoch 146/200\n",
            "40/40 - 0s - loss: 0.2580 - accuracy: 0.9079 - val_loss: 1.0456 - val_accuracy: 0.5929 - 283ms/epoch - 7ms/step\n",
            "Epoch 147/200\n",
            "40/40 - 0s - loss: 0.2408 - accuracy: 0.9135 - val_loss: 1.0625 - val_accuracy: 0.5917 - 286ms/epoch - 7ms/step\n",
            "Epoch 148/200\n",
            "40/40 - 0s - loss: 0.2163 - accuracy: 0.9234 - val_loss: 1.0589 - val_accuracy: 0.5929 - 283ms/epoch - 7ms/step\n",
            "Epoch 149/200\n",
            "40/40 - 0s - loss: 0.3039 - accuracy: 0.8925 - val_loss: 1.1242 - val_accuracy: 0.5893 - 282ms/epoch - 7ms/step\n",
            "Epoch 150/200\n",
            "40/40 - 0s - loss: 0.3983 - accuracy: 0.8607 - val_loss: 1.0505 - val_accuracy: 0.5821 - 281ms/epoch - 7ms/step\n",
            "Epoch 151/200\n",
            "40/40 - 0s - loss: 0.3152 - accuracy: 0.8881 - val_loss: 1.0080 - val_accuracy: 0.5988 - 282ms/epoch - 7ms/step\n",
            "Epoch 152/200\n",
            "40/40 - 0s - loss: 0.2451 - accuracy: 0.9159 - val_loss: 1.0115 - val_accuracy: 0.5917 - 284ms/epoch - 7ms/step\n",
            "Epoch 153/200\n",
            "40/40 - 0s - loss: 0.1933 - accuracy: 0.9365 - val_loss: 1.0651 - val_accuracy: 0.5893 - 280ms/epoch - 7ms/step\n",
            "Epoch 154/200\n",
            "40/40 - 0s - loss: 0.2236 - accuracy: 0.9135 - val_loss: 1.1194 - val_accuracy: 0.5714 - 279ms/epoch - 7ms/step\n",
            "Epoch 155/200\n",
            "40/40 - 0s - loss: 0.1993 - accuracy: 0.9238 - val_loss: 1.0448 - val_accuracy: 0.5845 - 281ms/epoch - 7ms/step\n",
            "Epoch 156/200\n",
            "40/40 - 0s - loss: 0.1858 - accuracy: 0.9369 - val_loss: 1.0567 - val_accuracy: 0.5810 - 279ms/epoch - 7ms/step\n",
            "Epoch 157/200\n",
            "40/40 - 0s - loss: 0.1895 - accuracy: 0.9353 - val_loss: 1.1031 - val_accuracy: 0.5821 - 283ms/epoch - 7ms/step\n",
            "Epoch 158/200\n",
            "40/40 - 0s - loss: 0.1896 - accuracy: 0.9353 - val_loss: 1.0634 - val_accuracy: 0.5952 - 285ms/epoch - 7ms/step\n",
            "Epoch 159/200\n",
            "40/40 - 0s - loss: 0.2091 - accuracy: 0.9294 - val_loss: 1.0353 - val_accuracy: 0.5893 - 281ms/epoch - 7ms/step\n",
            "Epoch 160/200\n",
            "40/40 - 0s - loss: 0.1973 - accuracy: 0.9313 - val_loss: 1.0517 - val_accuracy: 0.5881 - 281ms/epoch - 7ms/step\n",
            "Epoch 161/200\n",
            "40/40 - 0s - loss: 0.2052 - accuracy: 0.9274 - val_loss: 1.0285 - val_accuracy: 0.6048 - 277ms/epoch - 7ms/step\n",
            "Epoch 162/200\n",
            "40/40 - 0s - loss: 0.2088 - accuracy: 0.9294 - val_loss: 1.1016 - val_accuracy: 0.5762 - 284ms/epoch - 7ms/step\n",
            "Epoch 163/200\n",
            "40/40 - 0s - loss: 0.1951 - accuracy: 0.9266 - val_loss: 1.0830 - val_accuracy: 0.5810 - 285ms/epoch - 7ms/step\n",
            "Epoch 164/200\n",
            "40/40 - 0s - loss: 0.2227 - accuracy: 0.9175 - val_loss: 1.0670 - val_accuracy: 0.6012 - 283ms/epoch - 7ms/step\n",
            "Epoch 165/200\n",
            "40/40 - 0s - loss: 0.2318 - accuracy: 0.9115 - val_loss: 1.0801 - val_accuracy: 0.5857 - 282ms/epoch - 7ms/step\n",
            "Epoch 166/200\n",
            "40/40 - 0s - loss: 0.2072 - accuracy: 0.9278 - val_loss: 1.1097 - val_accuracy: 0.5917 - 280ms/epoch - 7ms/step\n",
            "Epoch 167/200\n",
            "40/40 - 0s - loss: 0.1972 - accuracy: 0.9333 - val_loss: 1.0846 - val_accuracy: 0.6000 - 283ms/epoch - 7ms/step\n",
            "Epoch 168/200\n",
            "40/40 - 0s - loss: 0.2792 - accuracy: 0.9020 - val_loss: 1.0532 - val_accuracy: 0.5976 - 292ms/epoch - 7ms/step\n",
            "Epoch 169/200\n",
            "40/40 - 0s - loss: 0.2077 - accuracy: 0.9246 - val_loss: 1.0886 - val_accuracy: 0.5905 - 284ms/epoch - 7ms/step\n",
            "Epoch 170/200\n",
            "40/40 - 0s - loss: 0.2137 - accuracy: 0.9270 - val_loss: 1.1088 - val_accuracy: 0.6024 - 282ms/epoch - 7ms/step\n",
            "Epoch 171/200\n",
            "40/40 - 0s - loss: 0.2381 - accuracy: 0.9175 - val_loss: 1.0511 - val_accuracy: 0.6083 - 282ms/epoch - 7ms/step\n",
            "Epoch 172/200\n",
            "40/40 - 0s - loss: 0.2134 - accuracy: 0.9163 - val_loss: 1.0782 - val_accuracy: 0.5917 - 283ms/epoch - 7ms/step\n",
            "Epoch 173/200\n",
            "40/40 - 0s - loss: 0.1991 - accuracy: 0.9313 - val_loss: 1.0639 - val_accuracy: 0.5964 - 289ms/epoch - 7ms/step\n",
            "Epoch 174/200\n",
            "40/40 - 0s - loss: 0.1710 - accuracy: 0.9440 - val_loss: 1.0758 - val_accuracy: 0.6250 - 281ms/epoch - 7ms/step\n",
            "Epoch 175/200\n",
            "40/40 - 0s - loss: 0.1824 - accuracy: 0.9437 - val_loss: 1.1147 - val_accuracy: 0.5905 - 287ms/epoch - 7ms/step\n",
            "Epoch 176/200\n",
            "40/40 - 0s - loss: 0.1935 - accuracy: 0.9286 - val_loss: 1.0802 - val_accuracy: 0.5988 - 281ms/epoch - 7ms/step\n",
            "Epoch 177/200\n",
            "40/40 - 0s - loss: 0.1870 - accuracy: 0.9282 - val_loss: 1.1002 - val_accuracy: 0.5917 - 280ms/epoch - 7ms/step\n",
            "Epoch 178/200\n",
            "40/40 - 0s - loss: 0.1706 - accuracy: 0.9429 - val_loss: 1.0872 - val_accuracy: 0.5881 - 289ms/epoch - 7ms/step\n",
            "Epoch 179/200\n",
            "40/40 - 0s - loss: 0.1561 - accuracy: 0.9504 - val_loss: 1.0625 - val_accuracy: 0.6060 - 292ms/epoch - 7ms/step\n",
            "Epoch 180/200\n",
            "40/40 - 0s - loss: 0.1819 - accuracy: 0.9349 - val_loss: 1.0637 - val_accuracy: 0.5940 - 282ms/epoch - 7ms/step\n",
            "Epoch 181/200\n",
            "40/40 - 0s - loss: 0.2291 - accuracy: 0.9266 - val_loss: 1.1443 - val_accuracy: 0.5774 - 296ms/epoch - 7ms/step\n",
            "Epoch 182/200\n",
            "40/40 - 0s - loss: 0.2556 - accuracy: 0.9091 - val_loss: 1.0387 - val_accuracy: 0.6048 - 278ms/epoch - 7ms/step\n",
            "Epoch 183/200\n",
            "40/40 - 0s - loss: 0.2302 - accuracy: 0.9151 - val_loss: 1.1085 - val_accuracy: 0.5774 - 289ms/epoch - 7ms/step\n",
            "Epoch 184/200\n",
            "40/40 - 0s - loss: 0.2323 - accuracy: 0.9159 - val_loss: 1.1743 - val_accuracy: 0.5667 - 293ms/epoch - 7ms/step\n",
            "Epoch 185/200\n",
            "40/40 - 0s - loss: 0.1632 - accuracy: 0.9444 - val_loss: 1.1377 - val_accuracy: 0.5774 - 291ms/epoch - 7ms/step\n",
            "Epoch 186/200\n",
            "40/40 - 0s - loss: 0.1422 - accuracy: 0.9492 - val_loss: 1.1705 - val_accuracy: 0.5738 - 294ms/epoch - 7ms/step\n",
            "Epoch 187/200\n",
            "40/40 - 0s - loss: 0.1986 - accuracy: 0.9298 - val_loss: 1.0912 - val_accuracy: 0.5976 - 279ms/epoch - 7ms/step\n",
            "Epoch 188/200\n",
            "40/40 - 0s - loss: 0.2533 - accuracy: 0.9079 - val_loss: 1.0888 - val_accuracy: 0.5821 - 285ms/epoch - 7ms/step\n",
            "Epoch 189/200\n",
            "40/40 - 0s - loss: 0.2057 - accuracy: 0.9306 - val_loss: 1.1218 - val_accuracy: 0.5857 - 285ms/epoch - 7ms/step\n",
            "Epoch 190/200\n",
            "40/40 - 0s - loss: 0.1740 - accuracy: 0.9349 - val_loss: 1.0824 - val_accuracy: 0.5905 - 281ms/epoch - 7ms/step\n",
            "Epoch 191/200\n",
            "40/40 - 0s - loss: 0.1751 - accuracy: 0.9421 - val_loss: 1.0694 - val_accuracy: 0.6107 - 293ms/epoch - 7ms/step\n",
            "Epoch 192/200\n",
            "40/40 - 0s - loss: 0.1658 - accuracy: 0.9349 - val_loss: 1.0777 - val_accuracy: 0.6036 - 280ms/epoch - 7ms/step\n",
            "Epoch 193/200\n",
            "40/40 - 0s - loss: 0.1813 - accuracy: 0.9385 - val_loss: 1.1119 - val_accuracy: 0.5762 - 295ms/epoch - 7ms/step\n",
            "Epoch 194/200\n",
            "40/40 - 0s - loss: 0.1585 - accuracy: 0.9421 - val_loss: 1.1266 - val_accuracy: 0.5929 - 285ms/epoch - 7ms/step\n",
            "Epoch 195/200\n",
            "40/40 - 0s - loss: 0.1719 - accuracy: 0.9389 - val_loss: 1.1112 - val_accuracy: 0.6000 - 278ms/epoch - 7ms/step\n",
            "Epoch 196/200\n",
            "40/40 - 0s - loss: 0.1926 - accuracy: 0.9274 - val_loss: 1.0961 - val_accuracy: 0.5881 - 282ms/epoch - 7ms/step\n",
            "Epoch 197/200\n",
            "40/40 - 0s - loss: 0.1683 - accuracy: 0.9444 - val_loss: 1.1308 - val_accuracy: 0.6012 - 281ms/epoch - 7ms/step\n",
            "Epoch 198/200\n",
            "40/40 - 0s - loss: 0.1725 - accuracy: 0.9401 - val_loss: 1.0699 - val_accuracy: 0.6071 - 280ms/epoch - 7ms/step\n",
            "Epoch 199/200\n",
            "40/40 - 0s - loss: 0.1457 - accuracy: 0.9520 - val_loss: 1.1071 - val_accuracy: 0.6083 - 281ms/epoch - 7ms/step\n",
            "Epoch 200/200\n",
            "40/40 - 0s - loss: 0.1846 - accuracy: 0.9345 - val_loss: 1.1580 - val_accuracy: 0.6048 - 277ms/epoch - 7ms/step\n",
            "27/27 - 0s - loss: 1.4801 - accuracy: 0.4988 - 85ms/epoch - 3ms/step\n",
            "Test accuracy: 0.4988095164299011\n"
          ]
        }
      ]
    },
    {
      "cell_type": "code",
      "source": [
        "import matplotlib.pyplot as plt\n",
        "\n",
        "# Plotting the training and validation loss\n",
        "plt.figure(figsize=(8, 5))\n",
        "plt.plot(history.history['loss'], label='Training Loss')\n",
        "plt.plot(history.history['val_loss'], label='Validation Loss')\n",
        "plt.title('Training and Validation Loss')\n",
        "plt.xlabel('Epochs')\n",
        "plt.ylabel('Loss')\n",
        "plt.legend()\n",
        "plt.show()\n",
        "\n",
        "# Plotting the training and validation accuracy\n",
        "plt.figure(figsize=(8, 5))\n",
        "plt.plot(history.history['accuracy'], label='Training Accuracy')\n",
        "plt.plot(history.history['val_accuracy'], label='Validation Accuracy')\n",
        "plt.title('Training and Validation Accuracy')\n",
        "plt.xlabel('Epochs')\n",
        "plt.ylabel('Accuracy')\n",
        "plt.legend()\n",
        "plt.show()"
      ],
      "metadata": {
        "colab": {
          "base_uri": "https://localhost:8080/",
          "height": 957
        },
        "id": "l4vBnnVOGj6g",
        "outputId": "d1ba3679-979f-4fe7-f134-a31b92059287"
      },
      "execution_count": null,
      "outputs": [
        {
          "output_type": "display_data",
          "data": {
            "text/plain": [
              "<Figure size 800x500 with 1 Axes>"
            ],
            "image/png": "[encoded data removed]"
          },
          "metadata": {}
        },
        {
          "output_type": "display_data",
          "data": {
            "text/plain": [
              "<Figure size 800x500 with 1 Axes>"
            ],
            "image/png": "[encoded data removed]"
          },
          "metadata": {}
        }
      ]
    },
    {
      "cell_type": "code",
      "source": [
        "from sklearn.metrics import confusion_matrix\n",
        "import numpy as np\n",
        "import seaborn as sns\n",
        "\n",
        "# predict\n",
        "y_pred = model.predict(X_test)\n",
        "y_pred_classes = np.argmax(y_pred, axis=1)\n",
        "y_true_classes = np.argmax(y_test, axis=1)\n",
        "\n",
        "class_labels = [8, 9, 10, 11]\n",
        "\n",
        "# calculate confusion_matrix\n",
        "cm = confusion_matrix(y_true_classes, y_pred_classes)\n",
        "\n",
        "# plot\n",
        "plt.figure(figsize=(8, 6))\n",
        "sns.heatmap(cm, annot=True, fmt='d', cmap='Blues', xticklabels=class_labels, yticklabels=class_labels)\n",
        "plt.title('Confusion Matrix')\n",
        "plt.xlabel('Predicted Frequency(Hz)')\n",
        "plt.ylabel('True Frequency (Hz)')\n",
        "plt.show()"
      ],
      "metadata": {
        "colab": {
          "base_uri": "https://localhost:8080/",
          "height": 581
        },
        "id": "KUEUXbJVK1u8",
        "outputId": "c6deb40c-76ec-4bfe-adac-a81c76f5d33e"
      },
      "execution_count": null,
      "outputs": [
        {
          "output_type": "stream",
          "name": "stdout",
          "text": [
            "27/27 [==============================] - 0s 2ms/step\n"
          ]
        },
        {
          "output_type": "display_data",
          "data": {
            "text/plain": [
              "<Figure size 800x600 with 2 Axes>"
            ],
            "image/png": "[encoded data removed]"
          },
          "metadata": {}
        }
      ]
    },
    {
      "cell_type": "markdown",
      "source": [
        "## Data length 2.5 sec"
      ],
      "metadata": {
        "id": "HsCuPqllGm5i"
      }
    },
    {
      "cell_type": "markdown",
      "source": [
        "- Using data stimulated by four frequencies: 8, 9, 10, and 11 Hz.\n",
        "- 35 participants are divided into three groups for training, validation, and - testing, with 21, 7, and 7 participants respectively.\n",
        "- Use 2.5 second of data, taking segments from each trial starting from 0.5 seconds to 5.5 seconds, with each trial being divided into two segments."
      ],
      "metadata": {
        "id": "6HFNoQMgNrAx"
      }
    },
    {
      "cell_type": "markdown",
      "source": [
        "### Process data"
      ],
      "metadata": {
        "id": "Qbsae4xhIiZN"
      }
    },
    {
      "cell_type": "markdown",
      "source": [
        "Data format:\n",
        "\n",
        "Datatype - float32 (both X and Y)  \n",
        "X.shape - (#samples, 1, #timepoints, #channels)  \n",
        "Y.shape - (#samples)"
      ],
      "metadata": {
        "id": "6VFK44ALGkGC"
      }
    },
    {
      "cell_type": "code",
      "source": [
        "# use only 8, 9, 10, 11 Hz\n",
        "selected_targets = raw_data_array[:, :, :, :4, :]\n",
        "\n",
        "# initial label\n",
        "labels = np.array([8, 9, 10, 11])\n",
        "\n",
        "num_subjects = raw_data_array.shape[0]  # 35\n",
        "num_sessions = raw_data_array.shape[4]  # 6\n",
        "full_labels = np.tile(labels, (num_subjects, num_sessions, 1)).transpose(0, 2, 1)\n",
        "\n",
        "del raw_data_array\n",
        "\n",
        "train_data = selected_targets[:21]\n",
        "val_data = selected_targets[21:28]\n",
        "test_data = selected_targets[28:]\n",
        "\n",
        "train_labels = full_labels[:21]\n",
        "val_labels = full_labels[21:28]\n",
        "test_labels = full_labels[28:]"
      ],
      "metadata": {
        "id": "YkQQfpxEGkGD"
      },
      "execution_count": null,
      "outputs": []
    },
    {
      "cell_type": "code",
      "source": [
        "train_data.shape"
      ],
      "metadata": {
        "colab": {
          "base_uri": "https://localhost:8080/"
        },
        "outputId": "8404b2dc-960e-4fb4-da46-3d423650dda2",
        "id": "xLVR7rqnGkGD"
      },
      "execution_count": null,
      "outputs": [
        {
          "output_type": "execute_result",
          "data": {
            "text/plain": [
              "(21, 64, 1500, 4, 6)"
            ]
          },
          "metadata": {},
          "execution_count": 50
        }
      ]
    },
    {
      "cell_type": "code",
      "source": [
        "def reshape_data(data, labels):\n",
        "    num_samples, num_channels, num_timepoints, num_targets, num_sessions = data.shape\n",
        "    data_reshaped = data.transpose(0, 3, 4, 1, 2).reshape(num_samples * num_targets * num_sessions, 1, num_timepoints, num_channels)\n",
        "\n",
        "    labels_reshaped = labels.reshape(-1)\n",
        "\n",
        "    return data_reshaped, labels_reshaped\n",
        "\n",
        "train_data_reshaped, train_labels_reshaped = reshape_data(train_data, train_labels)\n",
        "val_data_reshaped, val_labels_reshaped = reshape_data(val_data, val_labels)\n",
        "test_data_reshaped, test_labels_reshaped = reshape_data(test_data, test_labels)"
      ],
      "metadata": {
        "id": "pHTftgGyGkGE"
      },
      "execution_count": null,
      "outputs": []
    },
    {
      "cell_type": "code",
      "source": [
        "def segment_data_reshaped(data, labels):\n",
        "    segmented_data = []\n",
        "    segmented_labels = []\n",
        "    start_sample = int(0.5 * 250)  # start at 0.5 sec\n",
        "    for segment in range(2):  # 2.5 sec -> 2 segments\n",
        "        segment_start = start_sample + segment * 625\n",
        "        segment_end = segment_start + 625\n",
        "        segmented_data.append(data[:, :, segment_start:segment_end, :])\n",
        "        segmented_labels.append(labels)\n",
        "\n",
        "    return np.array(segmented_data), np.array(segmented_labels)\n",
        "\n",
        "segmented_train_data, segmented_train_labels = segment_data_reshaped(train_data_reshaped, train_labels_reshaped)\n",
        "segmented_val_data, segmented_val_labels = segment_data_reshaped(val_data_reshaped, val_labels_reshaped)\n",
        "segmented_test_data, segmented_test_labels = segment_data_reshaped(test_data_reshaped, test_labels_reshaped)\n",
        "\n",
        "_, _, _, num_timepoints, num_channels = segmented_train_data.shape\n",
        "X_train = segmented_train_data.reshape(-1, 1, num_timepoints, num_channels)\n",
        "y_train = segmented_train_labels.reshape(-1)\n",
        "\n",
        "X_val = segmented_val_data.reshape(-1, 1, num_timepoints, num_channels)\n",
        "y_val = segmented_val_labels.reshape(-1)\n",
        "\n",
        "X_test = segmented_test_data.reshape(-1, 1, num_timepoints, num_channels)\n",
        "y_test = segmented_test_labels.reshape(-1)"
      ],
      "metadata": {
        "id": "j2BEam5cGkGE"
      },
      "execution_count": null,
      "outputs": []
    },
    {
      "cell_type": "code",
      "source": [
        "X_test.shape"
      ],
      "metadata": {
        "colab": {
          "base_uri": "https://localhost:8080/"
        },
        "outputId": "52477c88-bcdc-4182-d97f-773bd2f54a42",
        "id": "Ev8taCefGkGF"
      },
      "execution_count": null,
      "outputs": [
        {
          "output_type": "execute_result",
          "data": {
            "text/plain": [
              "(336, 1, 625, 64)"
            ]
          },
          "metadata": {},
          "execution_count": 54
        }
      ]
    },
    {
      "cell_type": "code",
      "source": [
        "def label_adjust(labels):\n",
        "    for i in range(len(labels)):\n",
        "        if labels[i] == 8:\n",
        "            labels[i] = 0\n",
        "        elif labels[i] == 9:\n",
        "            labels[i] = 1\n",
        "        elif labels[i] == 10:\n",
        "            labels[i] = 2\n",
        "        elif labels[i] == 11:\n",
        "            labels[i] = 3\n",
        "    return labels\n",
        "\n",
        "y_train = label_adjust(y_train)\n",
        "y_val = label_adjust(y_val)\n",
        "y_test = label_adjust(y_test)\n",
        "\n",
        "from tensorflow.keras.utils import to_categorical\n",
        "\n",
        "# Example\n",
        "y_train = to_categorical(y_train, num_classes=4)\n",
        "y_val = to_categorical(y_val, num_classes=4)\n",
        "y_test = to_categorical(y_test, num_classes=4)"
      ],
      "metadata": {
        "id": "9BDZ8xBjGkGG"
      },
      "execution_count": null,
      "outputs": []
    },
    {
      "cell_type": "code",
      "source": [
        "X_train.shape"
      ],
      "metadata": {
        "colab": {
          "base_uri": "https://localhost:8080/"
        },
        "outputId": "21a8e4e3-639f-4c75-8383-a1884baf084b",
        "id": "EdD3f006GkGH"
      },
      "execution_count": null,
      "outputs": [
        {
          "output_type": "execute_result",
          "data": {
            "text/plain": [
              "(1008, 1, 625, 64)"
            ]
          },
          "metadata": {},
          "execution_count": 56
        }
      ]
    },
    {
      "cell_type": "markdown",
      "source": [
        "### EEGnet evaluation"
      ],
      "metadata": {
        "id": "ozLvmwchIuYr"
      }
    },
    {
      "cell_type": "code",
      "source": [
        "import tensorflow as tf\n",
        "from tensorflow.keras.models import Model\n",
        "from tensorflow.keras.layers import Input, Conv2D, BatchNormalization, Dense, Dropout, Flatten, ReLU, MaxPooling2D, Reshape, Permute\n",
        "\n",
        "from tensorflow.keras.layers import Activation\n",
        "\n",
        "def EEGNet(input_shape=(1, 625, 64)):\n",
        "    inputs = Input(shape=input_shape)\n",
        "\n",
        "    x = Conv2D(16, (1, 64), padding='valid', use_bias=False)(inputs)\n",
        "    x = BatchNormalization()(x)\n",
        "    x = Dropout(0.25)(x)\n",
        "    x = ReLU()(x)\n",
        "    x = Permute((3, 2, 1))(x)\n",
        "\n",
        "    x = tf.pad(x, paddings=tf.constant([[0, 0], [16, 17], [0, 1], [0, 0]]), mode=\"CONSTANT\")\n",
        "    x = Conv2D(4, (2, 32), use_bias=False)(x)\n",
        "    x = BatchNormalization()(x)\n",
        "    x = Dropout(0.25)(x)\n",
        "    x = ReLU()(x)\n",
        "    x = MaxPooling2D((2, 4))(x)\n",
        "\n",
        "    x = tf.pad(x, paddings=tf.constant([[0, 0], [2, 1], [4, 3], [0, 0]]), mode=\"CONSTANT\")\n",
        "    x = Conv2D(4, (8, 4), use_bias=False)(x)\n",
        "    x = BatchNormalization()(x)\n",
        "    x = Dropout(0.25)(x)\n",
        "    x = ReLU()(x)\n",
        "    x = MaxPooling2D((2, 4))(x)\n",
        "\n",
        "    x = Flatten()(x)\n",
        "    x = Dense(4)(x)  # Change the number of output units to 4 for 4 classes\n",
        "    x = Activation('softmax')(x)  # Use softmax activation\n",
        "\n",
        "    model = Model(inputs=inputs, outputs=x)\n",
        "    return model\n",
        "\n",
        "model = EEGNet()\n",
        "model.compile(loss='categorical_crossentropy', optimizer='adam', metrics=['accuracy'])\n",
        "model.summary()\n",
        "\n",
        "history = model.fit(X_train, y_train, batch_size=32, epochs=200, validation_data=(X_val, y_val), verbose=2)\n",
        "\n",
        "# evaluate model\n",
        "scores = model.evaluate(X_test, y_test, verbose=2)\n",
        "print(f\"Test accuracy: {scores[1]}\")\n"
      ],
      "metadata": {
        "colab": {
          "base_uri": "https://localhost:8080/"
        },
        "outputId": "b7f4b64b-6d0e-4755-945b-fc372907e265",
        "id": "FlhzPP23GkGI"
      },
      "execution_count": null,
      "outputs": [
        {
          "output_type": "stream",
          "name": "stdout",
          "text": [
            "Model: \"model_10\"\n",
            "_________________________________________________________________\n",
            " Layer (type)                Output Shape              Param #   \n",
            "=================================================================\n",
            " input_11 (InputLayer)       [(None, 1, 625, 64)]      0         \n",
            "                                                                 \n",
            " conv2d_30 (Conv2D)          (None, 1, 562, 16)        65536     \n",
            "                                                                 \n",
            " batch_normalization_30 (Ba  (None, 1, 562, 16)        64        \n",
            " tchNormalization)                                               \n",
            "                                                                 \n",
            " dropout_30 (Dropout)        (None, 1, 562, 16)        0         \n",
            "                                                                 \n",
            " re_lu_30 (ReLU)             (None, 1, 562, 16)        0         \n",
            "                                                                 \n",
            " permute_10 (Permute)        (None, 16, 562, 1)        0         \n",
            "                                                                 \n",
            " tf.compat.v1.pad_20 (TFOpL  (None, 49, 563, 1)        0         \n",
            " ambda)                                                          \n",
            "                                                                 \n",
            " conv2d_31 (Conv2D)          (None, 48, 532, 4)        256       \n",
            "                                                                 \n",
            " batch_normalization_31 (Ba  (None, 48, 532, 4)        16        \n",
            " tchNormalization)                                               \n",
            "                                                                 \n",
            " dropout_31 (Dropout)        (None, 48, 532, 4)        0         \n",
            "                                                                 \n",
            " re_lu_31 (ReLU)             (None, 48, 532, 4)        0         \n",
            "                                                                 \n",
            " max_pooling2d_20 (MaxPooli  (None, 24, 133, 4)        0         \n",
            " ng2D)                                                           \n",
            "                                                                 \n",
            " tf.compat.v1.pad_21 (TFOpL  (None, 27, 140, 4)        0         \n",
            " ambda)                                                          \n",
            "                                                                 \n",
            " conv2d_32 (Conv2D)          (None, 20, 137, 4)        512       \n",
            "                                                                 \n",
            " batch_normalization_32 (Ba  (None, 20, 137, 4)        16        \n",
            " tchNormalization)                                               \n",
            "                                                                 \n",
            " dropout_32 (Dropout)        (None, 20, 137, 4)        0         \n",
            "                                                                 \n",
            " re_lu_32 (ReLU)             (None, 20, 137, 4)        0         \n",
            "                                                                 \n",
            " max_pooling2d_21 (MaxPooli  (None, 10, 34, 4)         0         \n",
            " ng2D)                                                           \n",
            "                                                                 \n",
            " flatten_10 (Flatten)        (None, 1360)              0         \n",
            "                                                                 \n",
            " dense_10 (Dense)            (None, 4)                 5444      \n",
            "                                                                 \n",
            " activation_5 (Activation)   (None, 4)                 0         \n",
            "                                                                 \n",
            "=================================================================\n",
            "Total params: 71844 (280.64 KB)\n",
            "Trainable params: 71796 (280.45 KB)\n",
            "Non-trainable params: 48 (192.00 Byte)\n",
            "_________________________________________________________________\n",
            "Epoch 1/200\n",
            "32/32 - 2s - loss: 1.6989 - accuracy: 0.2470 - val_loss: 1.4366 - val_accuracy: 0.2440 - 2s/epoch - 72ms/step\n",
            "Epoch 2/200\n",
            "32/32 - 0s - loss: 1.5594 - accuracy: 0.2550 - val_loss: 1.3988 - val_accuracy: 0.2649 - 274ms/epoch - 9ms/step\n",
            "Epoch 3/200\n",
            "32/32 - 0s - loss: 1.5425 - accuracy: 0.2629 - val_loss: 1.3912 - val_accuracy: 0.2321 - 272ms/epoch - 9ms/step\n",
            "Epoch 4/200\n",
            "32/32 - 0s - loss: 1.4591 - accuracy: 0.2897 - val_loss: 1.3915 - val_accuracy: 0.2708 - 281ms/epoch - 9ms/step\n",
            "Epoch 5/200\n",
            "32/32 - 0s - loss: 1.4296 - accuracy: 0.2996 - val_loss: 1.4068 - val_accuracy: 0.2411 - 274ms/epoch - 9ms/step\n",
            "Epoch 6/200\n",
            "32/32 - 0s - loss: 1.4293 - accuracy: 0.3125 - val_loss: 1.4084 - val_accuracy: 0.2530 - 275ms/epoch - 9ms/step\n",
            "Epoch 7/200\n",
            "32/32 - 0s - loss: 1.4191 - accuracy: 0.2808 - val_loss: 1.4015 - val_accuracy: 0.2560 - 274ms/epoch - 9ms/step\n",
            "Epoch 8/200\n",
            "32/32 - 0s - loss: 1.3951 - accuracy: 0.3125 - val_loss: 1.4079 - val_accuracy: 0.2381 - 274ms/epoch - 9ms/step\n",
            "Epoch 9/200\n",
            "32/32 - 0s - loss: 1.4024 - accuracy: 0.3175 - val_loss: 1.3906 - val_accuracy: 0.2589 - 271ms/epoch - 8ms/step\n",
            "Epoch 10/200\n",
            "32/32 - 0s - loss: 1.4220 - accuracy: 0.3105 - val_loss: 1.4004 - val_accuracy: 0.2500 - 273ms/epoch - 9ms/step\n",
            "Epoch 11/200\n",
            "32/32 - 0s - loss: 1.4176 - accuracy: 0.3046 - val_loss: 1.3888 - val_accuracy: 0.2738 - 279ms/epoch - 9ms/step\n",
            "Epoch 12/200\n",
            "32/32 - 0s - loss: 1.3942 - accuracy: 0.3274 - val_loss: 1.3845 - val_accuracy: 0.2560 - 275ms/epoch - 9ms/step\n",
            "Epoch 13/200\n",
            "32/32 - 0s - loss: 1.3473 - accuracy: 0.3373 - val_loss: 1.3954 - val_accuracy: 0.2470 - 270ms/epoch - 8ms/step\n",
            "Epoch 14/200\n",
            "32/32 - 0s - loss: 1.3534 - accuracy: 0.3403 - val_loss: 1.3773 - val_accuracy: 0.3155 - 275ms/epoch - 9ms/step\n",
            "Epoch 15/200\n",
            "32/32 - 0s - loss: 1.3827 - accuracy: 0.3611 - val_loss: 1.3884 - val_accuracy: 0.2530 - 284ms/epoch - 9ms/step\n",
            "Epoch 16/200\n",
            "32/32 - 0s - loss: 1.3397 - accuracy: 0.3889 - val_loss: 1.3874 - val_accuracy: 0.3214 - 271ms/epoch - 8ms/step\n",
            "Epoch 17/200\n",
            "32/32 - 0s - loss: 1.3553 - accuracy: 0.3532 - val_loss: 1.3908 - val_accuracy: 0.3125 - 272ms/epoch - 9ms/step\n",
            "Epoch 18/200\n",
            "32/32 - 0s - loss: 1.3660 - accuracy: 0.3423 - val_loss: 1.3822 - val_accuracy: 0.2768 - 272ms/epoch - 9ms/step\n",
            "Epoch 19/200\n",
            "32/32 - 0s - loss: 1.3289 - accuracy: 0.3819 - val_loss: 1.3902 - val_accuracy: 0.2738 - 276ms/epoch - 9ms/step\n",
            "Epoch 20/200\n",
            "32/32 - 0s - loss: 1.3315 - accuracy: 0.3681 - val_loss: 1.3715 - val_accuracy: 0.3155 - 272ms/epoch - 9ms/step\n",
            "Epoch 21/200\n",
            "32/32 - 0s - loss: 1.3254 - accuracy: 0.3879 - val_loss: 1.3661 - val_accuracy: 0.3363 - 279ms/epoch - 9ms/step\n",
            "Epoch 22/200\n",
            "32/32 - 0s - loss: 1.3263 - accuracy: 0.4087 - val_loss: 1.3672 - val_accuracy: 0.2976 - 286ms/epoch - 9ms/step\n",
            "Epoch 23/200\n",
            "32/32 - 0s - loss: 1.3015 - accuracy: 0.4177 - val_loss: 1.3772 - val_accuracy: 0.2649 - 278ms/epoch - 9ms/step\n",
            "Epoch 24/200\n",
            "32/32 - 0s - loss: 1.3006 - accuracy: 0.4187 - val_loss: 1.3592 - val_accuracy: 0.3304 - 283ms/epoch - 9ms/step\n",
            "Epoch 25/200\n",
            "32/32 - 0s - loss: 1.2590 - accuracy: 0.4395 - val_loss: 1.3624 - val_accuracy: 0.2887 - 279ms/epoch - 9ms/step\n",
            "Epoch 26/200\n",
            "32/32 - 0s - loss: 1.2841 - accuracy: 0.4335 - val_loss: 1.3479 - val_accuracy: 0.3542 - 285ms/epoch - 9ms/step\n",
            "Epoch 27/200\n",
            "32/32 - 0s - loss: 1.2560 - accuracy: 0.4226 - val_loss: 1.3612 - val_accuracy: 0.3214 - 283ms/epoch - 9ms/step\n",
            "Epoch 28/200\n",
            "32/32 - 0s - loss: 1.2451 - accuracy: 0.4276 - val_loss: 1.3561 - val_accuracy: 0.3155 - 272ms/epoch - 8ms/step\n",
            "Epoch 29/200\n",
            "32/32 - 0s - loss: 1.2706 - accuracy: 0.4335 - val_loss: 1.3515 - val_accuracy: 0.3452 - 277ms/epoch - 9ms/step\n",
            "Epoch 30/200\n",
            "32/32 - 0s - loss: 1.1997 - accuracy: 0.4831 - val_loss: 1.3453 - val_accuracy: 0.3571 - 274ms/epoch - 9ms/step\n",
            "Epoch 31/200\n",
            "32/32 - 0s - loss: 1.2560 - accuracy: 0.4563 - val_loss: 1.3431 - val_accuracy: 0.3214 - 276ms/epoch - 9ms/step\n",
            "Epoch 32/200\n",
            "32/32 - 0s - loss: 1.2084 - accuracy: 0.4812 - val_loss: 1.3502 - val_accuracy: 0.3244 - 273ms/epoch - 9ms/step\n",
            "Epoch 33/200\n",
            "32/32 - 0s - loss: 1.1906 - accuracy: 0.4802 - val_loss: 1.3416 - val_accuracy: 0.3393 - 276ms/epoch - 9ms/step\n",
            "Epoch 34/200\n",
            "32/32 - 0s - loss: 1.1884 - accuracy: 0.4861 - val_loss: 1.3641 - val_accuracy: 0.3125 - 274ms/epoch - 9ms/step\n",
            "Epoch 35/200\n",
            "32/32 - 0s - loss: 1.2339 - accuracy: 0.4395 - val_loss: 1.3382 - val_accuracy: 0.3571 - 274ms/epoch - 9ms/step\n",
            "Epoch 36/200\n",
            "32/32 - 0s - loss: 1.1538 - accuracy: 0.5069 - val_loss: 1.3283 - val_accuracy: 0.3750 - 278ms/epoch - 9ms/step\n",
            "Epoch 37/200\n",
            "32/32 - 0s - loss: 1.1637 - accuracy: 0.4931 - val_loss: 1.3402 - val_accuracy: 0.3423 - 288ms/epoch - 9ms/step\n",
            "Epoch 38/200\n",
            "32/32 - 0s - loss: 1.1615 - accuracy: 0.5099 - val_loss: 1.3565 - val_accuracy: 0.3244 - 274ms/epoch - 9ms/step\n",
            "Epoch 39/200\n",
            "32/32 - 0s - loss: 1.1583 - accuracy: 0.5278 - val_loss: 1.3556 - val_accuracy: 0.3244 - 277ms/epoch - 9ms/step\n",
            "Epoch 40/200\n",
            "32/32 - 0s - loss: 1.1500 - accuracy: 0.5248 - val_loss: 1.3177 - val_accuracy: 0.4018 - 276ms/epoch - 9ms/step\n",
            "Epoch 41/200\n",
            "32/32 - 0s - loss: 1.1218 - accuracy: 0.5417 - val_loss: 1.3249 - val_accuracy: 0.3452 - 272ms/epoch - 8ms/step\n",
            "Epoch 42/200\n",
            "32/32 - 0s - loss: 1.0695 - accuracy: 0.5913 - val_loss: 1.3211 - val_accuracy: 0.3601 - 277ms/epoch - 9ms/step\n",
            "Epoch 43/200\n",
            "32/32 - 0s - loss: 1.0765 - accuracy: 0.5556 - val_loss: 1.3986 - val_accuracy: 0.3214 - 275ms/epoch - 9ms/step\n",
            "Epoch 44/200\n",
            "32/32 - 0s - loss: 1.0791 - accuracy: 0.5595 - val_loss: 1.3351 - val_accuracy: 0.3571 - 280ms/epoch - 9ms/step\n",
            "Epoch 45/200\n",
            "32/32 - 0s - loss: 1.0578 - accuracy: 0.5734 - val_loss: 1.3408 - val_accuracy: 0.3571 - 272ms/epoch - 8ms/step\n",
            "Epoch 46/200\n",
            "32/32 - 0s - loss: 1.0401 - accuracy: 0.5933 - val_loss: 1.3199 - val_accuracy: 0.3720 - 273ms/epoch - 9ms/step\n",
            "Epoch 47/200\n",
            "32/32 - 0s - loss: 1.0062 - accuracy: 0.6200 - val_loss: 1.3111 - val_accuracy: 0.3810 - 273ms/epoch - 9ms/step\n",
            "Epoch 48/200\n",
            "32/32 - 0s - loss: 0.9695 - accuracy: 0.6141 - val_loss: 1.3212 - val_accuracy: 0.3661 - 275ms/epoch - 9ms/step\n",
            "Epoch 49/200\n",
            "32/32 - 0s - loss: 0.9906 - accuracy: 0.6171 - val_loss: 1.3079 - val_accuracy: 0.3810 - 272ms/epoch - 9ms/step\n",
            "Epoch 50/200\n",
            "32/32 - 0s - loss: 1.0066 - accuracy: 0.6052 - val_loss: 1.3388 - val_accuracy: 0.3542 - 267ms/epoch - 8ms/step\n",
            "Epoch 51/200\n",
            "32/32 - 0s - loss: 0.9574 - accuracy: 0.5942 - val_loss: 1.3254 - val_accuracy: 0.3690 - 275ms/epoch - 9ms/step\n",
            "Epoch 52/200\n",
            "32/32 - 0s - loss: 0.9911 - accuracy: 0.6260 - val_loss: 1.3098 - val_accuracy: 0.3720 - 272ms/epoch - 9ms/step\n",
            "Epoch 53/200\n",
            "32/32 - 0s - loss: 0.9159 - accuracy: 0.6548 - val_loss: 1.3409 - val_accuracy: 0.3631 - 279ms/epoch - 9ms/step\n",
            "Epoch 54/200\n",
            "32/32 - 0s - loss: 0.9522 - accuracy: 0.6131 - val_loss: 1.3183 - val_accuracy: 0.3988 - 270ms/epoch - 8ms/step\n",
            "Epoch 55/200\n",
            "32/32 - 0s - loss: 0.9340 - accuracy: 0.6319 - val_loss: 1.3069 - val_accuracy: 0.3690 - 276ms/epoch - 9ms/step\n",
            "Epoch 56/200\n",
            "32/32 - 0s - loss: 0.8899 - accuracy: 0.6736 - val_loss: 1.3546 - val_accuracy: 0.3571 - 271ms/epoch - 8ms/step\n",
            "Epoch 57/200\n",
            "32/32 - 0s - loss: 0.9034 - accuracy: 0.6458 - val_loss: 1.3397 - val_accuracy: 0.3363 - 274ms/epoch - 9ms/step\n",
            "Epoch 58/200\n",
            "32/32 - 0s - loss: 0.8591 - accuracy: 0.6815 - val_loss: 1.3010 - val_accuracy: 0.3810 - 274ms/epoch - 9ms/step\n",
            "Epoch 59/200\n",
            "32/32 - 0s - loss: 0.8405 - accuracy: 0.6726 - val_loss: 1.3327 - val_accuracy: 0.3690 - 271ms/epoch - 8ms/step\n",
            "Epoch 60/200\n",
            "32/32 - 0s - loss: 0.8568 - accuracy: 0.6647 - val_loss: 1.3035 - val_accuracy: 0.4018 - 272ms/epoch - 9ms/step\n",
            "Epoch 61/200\n",
            "32/32 - 0s - loss: 0.7871 - accuracy: 0.7014 - val_loss: 1.3034 - val_accuracy: 0.3780 - 272ms/epoch - 8ms/step\n",
            "Epoch 62/200\n",
            "32/32 - 0s - loss: 0.7441 - accuracy: 0.7341 - val_loss: 1.2822 - val_accuracy: 0.4077 - 273ms/epoch - 9ms/step\n",
            "Epoch 63/200\n",
            "32/32 - 0s - loss: 0.7509 - accuracy: 0.7262 - val_loss: 1.2897 - val_accuracy: 0.4137 - 277ms/epoch - 9ms/step\n",
            "Epoch 64/200\n",
            "32/32 - 0s - loss: 0.7788 - accuracy: 0.7153 - val_loss: 1.3258 - val_accuracy: 0.3661 - 275ms/epoch - 9ms/step\n",
            "Epoch 65/200\n",
            "32/32 - 0s - loss: 0.7701 - accuracy: 0.7113 - val_loss: 1.2983 - val_accuracy: 0.3929 - 273ms/epoch - 9ms/step\n",
            "Epoch 66/200\n",
            "32/32 - 0s - loss: 0.7274 - accuracy: 0.7351 - val_loss: 1.3237 - val_accuracy: 0.3869 - 282ms/epoch - 9ms/step\n",
            "Epoch 67/200\n",
            "32/32 - 0s - loss: 0.7040 - accuracy: 0.7411 - val_loss: 1.3675 - val_accuracy: 0.3869 - 273ms/epoch - 9ms/step\n",
            "Epoch 68/200\n",
            "32/32 - 0s - loss: 0.7197 - accuracy: 0.7500 - val_loss: 1.2836 - val_accuracy: 0.3810 - 271ms/epoch - 8ms/step\n",
            "Epoch 69/200\n",
            "32/32 - 0s - loss: 0.6369 - accuracy: 0.7758 - val_loss: 1.2955 - val_accuracy: 0.4018 - 283ms/epoch - 9ms/step\n",
            "Epoch 70/200\n",
            "32/32 - 0s - loss: 0.6938 - accuracy: 0.7401 - val_loss: 1.3011 - val_accuracy: 0.4167 - 277ms/epoch - 9ms/step\n",
            "Epoch 71/200\n",
            "32/32 - 0s - loss: 0.6726 - accuracy: 0.7837 - val_loss: 1.2884 - val_accuracy: 0.4048 - 281ms/epoch - 9ms/step\n",
            "Epoch 72/200\n",
            "32/32 - 0s - loss: 0.6573 - accuracy: 0.7778 - val_loss: 1.2943 - val_accuracy: 0.3988 - 273ms/epoch - 9ms/step\n",
            "Epoch 73/200\n",
            "32/32 - 0s - loss: 0.6058 - accuracy: 0.7867 - val_loss: 1.3478 - val_accuracy: 0.3988 - 274ms/epoch - 9ms/step\n",
            "Epoch 74/200\n",
            "32/32 - 0s - loss: 0.6324 - accuracy: 0.7927 - val_loss: 1.2977 - val_accuracy: 0.3780 - 272ms/epoch - 8ms/step\n",
            "Epoch 75/200\n",
            "32/32 - 0s - loss: 0.6344 - accuracy: 0.7708 - val_loss: 1.3205 - val_accuracy: 0.4137 - 269ms/epoch - 8ms/step\n",
            "Epoch 76/200\n",
            "32/32 - 0s - loss: 0.6335 - accuracy: 0.7817 - val_loss: 1.3150 - val_accuracy: 0.3869 - 273ms/epoch - 9ms/step\n",
            "Epoch 77/200\n",
            "32/32 - 0s - loss: 0.5890 - accuracy: 0.7897 - val_loss: 1.3044 - val_accuracy: 0.3988 - 278ms/epoch - 9ms/step\n",
            "Epoch 78/200\n",
            "32/32 - 0s - loss: 0.5855 - accuracy: 0.7867 - val_loss: 1.3273 - val_accuracy: 0.4018 - 276ms/epoch - 9ms/step\n",
            "Epoch 79/200\n",
            "32/32 - 0s - loss: 0.4963 - accuracy: 0.8492 - val_loss: 1.3203 - val_accuracy: 0.4018 - 272ms/epoch - 8ms/step\n",
            "Epoch 80/200\n",
            "32/32 - 0s - loss: 0.5326 - accuracy: 0.8194 - val_loss: 1.3325 - val_accuracy: 0.4107 - 270ms/epoch - 8ms/step\n",
            "Epoch 81/200\n",
            "32/32 - 0s - loss: 0.5334 - accuracy: 0.8264 - val_loss: 1.2850 - val_accuracy: 0.4256 - 284ms/epoch - 9ms/step\n",
            "Epoch 82/200\n",
            "32/32 - 0s - loss: 0.5675 - accuracy: 0.8056 - val_loss: 1.3043 - val_accuracy: 0.4256 - 285ms/epoch - 9ms/step\n",
            "Epoch 83/200\n",
            "32/32 - 0s - loss: 0.4738 - accuracy: 0.8363 - val_loss: 1.2786 - val_accuracy: 0.4226 - 285ms/epoch - 9ms/step\n",
            "Epoch 84/200\n",
            "32/32 - 0s - loss: 0.4886 - accuracy: 0.8433 - val_loss: 1.3265 - val_accuracy: 0.4018 - 284ms/epoch - 9ms/step\n",
            "Epoch 85/200\n",
            "32/32 - 0s - loss: 0.4230 - accuracy: 0.8591 - val_loss: 1.3892 - val_accuracy: 0.4077 - 278ms/epoch - 9ms/step\n",
            "Epoch 86/200\n",
            "32/32 - 0s - loss: 0.3934 - accuracy: 0.8690 - val_loss: 1.3117 - val_accuracy: 0.3929 - 286ms/epoch - 9ms/step\n",
            "Epoch 87/200\n",
            "32/32 - 0s - loss: 0.4930 - accuracy: 0.8333 - val_loss: 1.3692 - val_accuracy: 0.4018 - 273ms/epoch - 9ms/step\n",
            "Epoch 88/200\n",
            "32/32 - 0s - loss: 0.5012 - accuracy: 0.8155 - val_loss: 1.2947 - val_accuracy: 0.4107 - 282ms/epoch - 9ms/step\n",
            "Epoch 89/200\n",
            "32/32 - 0s - loss: 0.4057 - accuracy: 0.8690 - val_loss: 1.3607 - val_accuracy: 0.3958 - 280ms/epoch - 9ms/step\n",
            "Epoch 90/200\n",
            "32/32 - 0s - loss: 0.4275 - accuracy: 0.8601 - val_loss: 1.3215 - val_accuracy: 0.4196 - 278ms/epoch - 9ms/step\n",
            "Epoch 91/200\n",
            "32/32 - 0s - loss: 0.4339 - accuracy: 0.8601 - val_loss: 1.3303 - val_accuracy: 0.3869 - 282ms/epoch - 9ms/step\n",
            "Epoch 92/200\n",
            "32/32 - 0s - loss: 0.4731 - accuracy: 0.8492 - val_loss: 1.3967 - val_accuracy: 0.4167 - 278ms/epoch - 9ms/step\n",
            "Epoch 93/200\n",
            "32/32 - 0s - loss: 0.4479 - accuracy: 0.8492 - val_loss: 1.3111 - val_accuracy: 0.4167 - 281ms/epoch - 9ms/step\n",
            "Epoch 94/200\n",
            "32/32 - 0s - loss: 0.4473 - accuracy: 0.8690 - val_loss: 1.3443 - val_accuracy: 0.4256 - 299ms/epoch - 9ms/step\n",
            "Epoch 95/200\n",
            "32/32 - 0s - loss: 0.4109 - accuracy: 0.8512 - val_loss: 1.2661 - val_accuracy: 0.4375 - 298ms/epoch - 9ms/step\n",
            "Epoch 96/200\n",
            "32/32 - 0s - loss: 0.3722 - accuracy: 0.8879 - val_loss: 1.3421 - val_accuracy: 0.4345 - 277ms/epoch - 9ms/step\n",
            "Epoch 97/200\n",
            "32/32 - 0s - loss: 0.4655 - accuracy: 0.8472 - val_loss: 1.2616 - val_accuracy: 0.4345 - 286ms/epoch - 9ms/step\n",
            "Epoch 98/200\n",
            "32/32 - 0s - loss: 0.3618 - accuracy: 0.8929 - val_loss: 1.3947 - val_accuracy: 0.4107 - 276ms/epoch - 9ms/step\n",
            "Epoch 99/200\n",
            "32/32 - 0s - loss: 0.3408 - accuracy: 0.8919 - val_loss: 1.2831 - val_accuracy: 0.4464 - 274ms/epoch - 9ms/step\n",
            "Epoch 100/200\n",
            "32/32 - 0s - loss: 0.3817 - accuracy: 0.8780 - val_loss: 1.3047 - val_accuracy: 0.4464 - 269ms/epoch - 8ms/step\n",
            "Epoch 101/200\n",
            "32/32 - 0s - loss: 0.3309 - accuracy: 0.8889 - val_loss: 1.2857 - val_accuracy: 0.4345 - 277ms/epoch - 9ms/step\n",
            "Epoch 102/200\n",
            "32/32 - 0s - loss: 0.3157 - accuracy: 0.8988 - val_loss: 1.3367 - val_accuracy: 0.4137 - 282ms/epoch - 9ms/step\n",
            "Epoch 103/200\n",
            "32/32 - 0s - loss: 0.3699 - accuracy: 0.8978 - val_loss: 1.3756 - val_accuracy: 0.4196 - 275ms/epoch - 9ms/step\n",
            "Epoch 104/200\n",
            "32/32 - 0s - loss: 0.3350 - accuracy: 0.8829 - val_loss: 1.2662 - val_accuracy: 0.4464 - 273ms/epoch - 9ms/step\n",
            "Epoch 105/200\n",
            "32/32 - 0s - loss: 0.3379 - accuracy: 0.9028 - val_loss: 1.3159 - val_accuracy: 0.4345 - 271ms/epoch - 8ms/step\n",
            "Epoch 106/200\n",
            "32/32 - 0s - loss: 0.3299 - accuracy: 0.9018 - val_loss: 1.4193 - val_accuracy: 0.4405 - 278ms/epoch - 9ms/step\n",
            "Epoch 107/200\n",
            "32/32 - 0s - loss: 0.3362 - accuracy: 0.9008 - val_loss: 1.2854 - val_accuracy: 0.4494 - 279ms/epoch - 9ms/step\n",
            "Epoch 108/200\n",
            "32/32 - 0s - loss: 0.3278 - accuracy: 0.9018 - val_loss: 1.2962 - val_accuracy: 0.4613 - 279ms/epoch - 9ms/step\n",
            "Epoch 109/200\n",
            "32/32 - 0s - loss: 0.2930 - accuracy: 0.8988 - val_loss: 1.3079 - val_accuracy: 0.4554 - 283ms/epoch - 9ms/step\n",
            "Epoch 110/200\n",
            "32/32 - 0s - loss: 0.2668 - accuracy: 0.9167 - val_loss: 1.2690 - val_accuracy: 0.4613 - 285ms/epoch - 9ms/step\n",
            "Epoch 111/200\n",
            "32/32 - 0s - loss: 0.2465 - accuracy: 0.9157 - val_loss: 1.3635 - val_accuracy: 0.4494 - 280ms/epoch - 9ms/step\n",
            "Epoch 112/200\n",
            "32/32 - 0s - loss: 0.2468 - accuracy: 0.9246 - val_loss: 1.2818 - val_accuracy: 0.4643 - 275ms/epoch - 9ms/step\n",
            "Epoch 113/200\n",
            "32/32 - 0s - loss: 0.2519 - accuracy: 0.9137 - val_loss: 1.2337 - val_accuracy: 0.4762 - 292ms/epoch - 9ms/step\n",
            "Epoch 114/200\n",
            "32/32 - 0s - loss: 0.3324 - accuracy: 0.8998 - val_loss: 1.2830 - val_accuracy: 0.4464 - 281ms/epoch - 9ms/step\n",
            "Epoch 115/200\n",
            "32/32 - 0s - loss: 0.3197 - accuracy: 0.9038 - val_loss: 1.2522 - val_accuracy: 0.4881 - 275ms/epoch - 9ms/step\n",
            "Epoch 116/200\n",
            "32/32 - 0s - loss: 0.2442 - accuracy: 0.9345 - val_loss: 1.3421 - val_accuracy: 0.4107 - 277ms/epoch - 9ms/step\n",
            "Epoch 117/200\n",
            "32/32 - 0s - loss: 0.2402 - accuracy: 0.9256 - val_loss: 1.3694 - val_accuracy: 0.4167 - 274ms/epoch - 9ms/step\n",
            "Epoch 118/200\n",
            "32/32 - 0s - loss: 0.2595 - accuracy: 0.9296 - val_loss: 1.2747 - val_accuracy: 0.4524 - 275ms/epoch - 9ms/step\n",
            "Epoch 119/200\n",
            "32/32 - 0s - loss: 0.2563 - accuracy: 0.9206 - val_loss: 1.3717 - val_accuracy: 0.4315 - 290ms/epoch - 9ms/step\n",
            "Epoch 120/200\n",
            "32/32 - 0s - loss: 0.2535 - accuracy: 0.9216 - val_loss: 1.4102 - val_accuracy: 0.4345 - 294ms/epoch - 9ms/step\n",
            "Epoch 121/200\n",
            "32/32 - 0s - loss: 0.2657 - accuracy: 0.9196 - val_loss: 1.3097 - val_accuracy: 0.4524 - 283ms/epoch - 9ms/step\n",
            "Epoch 122/200\n",
            "32/32 - 0s - loss: 0.2010 - accuracy: 0.9444 - val_loss: 1.3445 - val_accuracy: 0.4583 - 287ms/epoch - 9ms/step\n",
            "Epoch 123/200\n",
            "32/32 - 0s - loss: 0.2031 - accuracy: 0.9385 - val_loss: 1.4748 - val_accuracy: 0.4137 - 283ms/epoch - 9ms/step\n",
            "Epoch 124/200\n",
            "32/32 - 0s - loss: 0.2519 - accuracy: 0.9206 - val_loss: 1.3733 - val_accuracy: 0.4702 - 279ms/epoch - 9ms/step\n",
            "Epoch 125/200\n",
            "32/32 - 0s - loss: 0.2258 - accuracy: 0.9355 - val_loss: 1.3732 - val_accuracy: 0.4405 - 287ms/epoch - 9ms/step\n",
            "Epoch 126/200\n",
            "32/32 - 0s - loss: 0.1898 - accuracy: 0.9395 - val_loss: 1.3255 - val_accuracy: 0.4435 - 281ms/epoch - 9ms/step\n",
            "Epoch 127/200\n",
            "32/32 - 0s - loss: 0.2113 - accuracy: 0.9385 - val_loss: 1.4102 - val_accuracy: 0.4286 - 283ms/epoch - 9ms/step\n",
            "Epoch 128/200\n",
            "32/32 - 0s - loss: 0.1883 - accuracy: 0.9425 - val_loss: 1.3799 - val_accuracy: 0.4583 - 277ms/epoch - 9ms/step\n",
            "Epoch 129/200\n",
            "32/32 - 0s - loss: 0.2119 - accuracy: 0.9444 - val_loss: 1.4613 - val_accuracy: 0.4345 - 281ms/epoch - 9ms/step\n",
            "Epoch 130/200\n",
            "32/32 - 0s - loss: 0.2088 - accuracy: 0.9325 - val_loss: 1.3957 - val_accuracy: 0.4613 - 291ms/epoch - 9ms/step\n",
            "Epoch 131/200\n",
            "32/32 - 0s - loss: 0.2126 - accuracy: 0.9464 - val_loss: 1.3200 - val_accuracy: 0.4702 - 296ms/epoch - 9ms/step\n",
            "Epoch 132/200\n",
            "32/32 - 0s - loss: 0.1883 - accuracy: 0.9335 - val_loss: 1.3075 - val_accuracy: 0.4613 - 286ms/epoch - 9ms/step\n",
            "Epoch 133/200\n",
            "32/32 - 0s - loss: 0.1586 - accuracy: 0.9554 - val_loss: 1.3546 - val_accuracy: 0.4673 - 281ms/epoch - 9ms/step\n",
            "Epoch 134/200\n",
            "32/32 - 0s - loss: 0.1448 - accuracy: 0.9603 - val_loss: 1.3565 - val_accuracy: 0.4613 - 291ms/epoch - 9ms/step\n",
            "Epoch 135/200\n",
            "32/32 - 0s - loss: 0.1501 - accuracy: 0.9554 - val_loss: 1.4005 - val_accuracy: 0.4702 - 292ms/epoch - 9ms/step\n",
            "Epoch 136/200\n",
            "32/32 - 0s - loss: 0.2511 - accuracy: 0.9157 - val_loss: 1.2662 - val_accuracy: 0.4851 - 273ms/epoch - 9ms/step\n",
            "Epoch 137/200\n",
            "32/32 - 0s - loss: 0.2562 - accuracy: 0.9196 - val_loss: 1.3563 - val_accuracy: 0.4911 - 277ms/epoch - 9ms/step\n",
            "Epoch 138/200\n",
            "32/32 - 0s - loss: 0.1985 - accuracy: 0.9444 - val_loss: 1.3438 - val_accuracy: 0.4673 - 294ms/epoch - 9ms/step\n",
            "Epoch 139/200\n",
            "32/32 - 0s - loss: 0.1990 - accuracy: 0.9415 - val_loss: 1.3424 - val_accuracy: 0.4970 - 285ms/epoch - 9ms/step\n",
            "Epoch 140/200\n",
            "32/32 - 0s - loss: 0.1915 - accuracy: 0.9385 - val_loss: 1.3477 - val_accuracy: 0.4673 - 287ms/epoch - 9ms/step\n",
            "Epoch 141/200\n",
            "32/32 - 0s - loss: 0.1236 - accuracy: 0.9653 - val_loss: 1.3629 - val_accuracy: 0.4762 - 299ms/epoch - 9ms/step\n",
            "Epoch 142/200\n",
            "32/32 - 0s - loss: 0.2028 - accuracy: 0.9464 - val_loss: 1.3611 - val_accuracy: 0.4643 - 295ms/epoch - 9ms/step\n",
            "Epoch 143/200\n",
            "32/32 - 0s - loss: 0.1857 - accuracy: 0.9444 - val_loss: 1.3710 - val_accuracy: 0.4494 - 285ms/epoch - 9ms/step\n",
            "Epoch 144/200\n",
            "32/32 - 0s - loss: 0.1953 - accuracy: 0.9385 - val_loss: 1.4110 - val_accuracy: 0.4673 - 278ms/epoch - 9ms/step\n",
            "Epoch 145/200\n",
            "32/32 - 0s - loss: 0.2374 - accuracy: 0.9325 - val_loss: 1.3153 - val_accuracy: 0.4524 - 273ms/epoch - 9ms/step\n",
            "Epoch 146/200\n",
            "32/32 - 0s - loss: 0.1432 - accuracy: 0.9514 - val_loss: 1.3328 - val_accuracy: 0.4881 - 275ms/epoch - 9ms/step\n",
            "Epoch 147/200\n",
            "32/32 - 0s - loss: 0.1352 - accuracy: 0.9653 - val_loss: 1.3135 - val_accuracy: 0.4970 - 273ms/epoch - 9ms/step\n",
            "Epoch 148/200\n",
            "32/32 - 0s - loss: 0.1617 - accuracy: 0.9484 - val_loss: 1.2892 - val_accuracy: 0.5089 - 274ms/epoch - 9ms/step\n",
            "Epoch 149/200\n",
            "32/32 - 0s - loss: 0.1254 - accuracy: 0.9692 - val_loss: 1.3653 - val_accuracy: 0.5030 - 279ms/epoch - 9ms/step\n",
            "Epoch 150/200\n",
            "32/32 - 0s - loss: 0.1265 - accuracy: 0.9683 - val_loss: 1.3887 - val_accuracy: 0.4732 - 289ms/epoch - 9ms/step\n",
            "Epoch 151/200\n",
            "32/32 - 0s - loss: 0.1678 - accuracy: 0.9435 - val_loss: 1.3702 - val_accuracy: 0.5030 - 279ms/epoch - 9ms/step\n",
            "Epoch 152/200\n",
            "32/32 - 0s - loss: 0.1937 - accuracy: 0.9415 - val_loss: 1.4881 - val_accuracy: 0.4792 - 281ms/epoch - 9ms/step\n",
            "Epoch 153/200\n",
            "32/32 - 0s - loss: 0.1937 - accuracy: 0.9405 - val_loss: 1.4764 - val_accuracy: 0.4464 - 274ms/epoch - 9ms/step\n",
            "Epoch 154/200\n",
            "32/32 - 0s - loss: 0.1238 - accuracy: 0.9593 - val_loss: 1.4876 - val_accuracy: 0.4435 - 282ms/epoch - 9ms/step\n",
            "Epoch 155/200\n",
            "32/32 - 0s - loss: 0.1554 - accuracy: 0.9544 - val_loss: 1.4111 - val_accuracy: 0.4702 - 282ms/epoch - 9ms/step\n",
            "Epoch 156/200\n",
            "32/32 - 0s - loss: 0.1781 - accuracy: 0.9395 - val_loss: 1.3927 - val_accuracy: 0.4732 - 290ms/epoch - 9ms/step\n",
            "Epoch 157/200\n",
            "32/32 - 0s - loss: 0.1799 - accuracy: 0.9504 - val_loss: 1.4440 - val_accuracy: 0.4583 - 288ms/epoch - 9ms/step\n",
            "Epoch 158/200\n",
            "32/32 - 0s - loss: 0.1477 - accuracy: 0.9623 - val_loss: 1.4639 - val_accuracy: 0.4613 - 293ms/epoch - 9ms/step\n",
            "Epoch 159/200\n",
            "32/32 - 0s - loss: 0.1709 - accuracy: 0.9524 - val_loss: 1.3175 - val_accuracy: 0.4762 - 284ms/epoch - 9ms/step\n",
            "Epoch 160/200\n",
            "32/32 - 0s - loss: 0.1354 - accuracy: 0.9613 - val_loss: 1.3880 - val_accuracy: 0.4851 - 289ms/epoch - 9ms/step\n",
            "Epoch 161/200\n",
            "32/32 - 0s - loss: 0.1464 - accuracy: 0.9504 - val_loss: 1.3785 - val_accuracy: 0.4940 - 281ms/epoch - 9ms/step\n",
            "Epoch 162/200\n",
            "32/32 - 0s - loss: 0.0988 - accuracy: 0.9752 - val_loss: 1.4608 - val_accuracy: 0.4643 - 287ms/epoch - 9ms/step\n",
            "Epoch 163/200\n",
            "32/32 - 0s - loss: 0.1318 - accuracy: 0.9603 - val_loss: 1.3635 - val_accuracy: 0.4851 - 278ms/epoch - 9ms/step\n",
            "Epoch 164/200\n",
            "32/32 - 0s - loss: 0.1087 - accuracy: 0.9633 - val_loss: 1.3591 - val_accuracy: 0.4554 - 283ms/epoch - 9ms/step\n",
            "Epoch 165/200\n",
            "32/32 - 0s - loss: 0.0790 - accuracy: 0.9802 - val_loss: 1.3922 - val_accuracy: 0.4911 - 280ms/epoch - 9ms/step\n",
            "Epoch 166/200\n",
            "32/32 - 0s - loss: 0.1710 - accuracy: 0.9563 - val_loss: 1.4325 - val_accuracy: 0.4613 - 284ms/epoch - 9ms/step\n",
            "Epoch 167/200\n",
            "32/32 - 0s - loss: 0.1137 - accuracy: 0.9573 - val_loss: 1.3960 - val_accuracy: 0.4821 - 287ms/epoch - 9ms/step\n",
            "Epoch 168/200\n",
            "32/32 - 0s - loss: 0.1504 - accuracy: 0.9613 - val_loss: 1.4201 - val_accuracy: 0.4821 - 275ms/epoch - 9ms/step\n",
            "Epoch 169/200\n",
            "32/32 - 0s - loss: 0.1722 - accuracy: 0.9484 - val_loss: 1.6339 - val_accuracy: 0.4613 - 279ms/epoch - 9ms/step\n",
            "Epoch 170/200\n",
            "32/32 - 0s - loss: 0.1482 - accuracy: 0.9563 - val_loss: 1.4098 - val_accuracy: 0.4673 - 280ms/epoch - 9ms/step\n",
            "Epoch 171/200\n",
            "32/32 - 0s - loss: 0.1323 - accuracy: 0.9593 - val_loss: 1.3936 - val_accuracy: 0.4911 - 276ms/epoch - 9ms/step\n",
            "Epoch 172/200\n",
            "32/32 - 0s - loss: 0.1123 - accuracy: 0.9702 - val_loss: 1.4213 - val_accuracy: 0.4762 - 280ms/epoch - 9ms/step\n",
            "Epoch 173/200\n",
            "32/32 - 0s - loss: 0.1006 - accuracy: 0.9712 - val_loss: 1.3893 - val_accuracy: 0.4673 - 276ms/epoch - 9ms/step\n",
            "Epoch 174/200\n",
            "32/32 - 0s - loss: 0.1197 - accuracy: 0.9722 - val_loss: 1.3321 - val_accuracy: 0.5268 - 280ms/epoch - 9ms/step\n",
            "Epoch 175/200\n",
            "32/32 - 0s - loss: 0.1113 - accuracy: 0.9742 - val_loss: 1.4723 - val_accuracy: 0.5119 - 287ms/epoch - 9ms/step\n",
            "Epoch 176/200\n",
            "32/32 - 0s - loss: 0.2065 - accuracy: 0.9435 - val_loss: 1.4560 - val_accuracy: 0.4732 - 280ms/epoch - 9ms/step\n",
            "Epoch 177/200\n",
            "32/32 - 0s - loss: 0.1412 - accuracy: 0.9534 - val_loss: 1.4629 - val_accuracy: 0.4970 - 287ms/epoch - 9ms/step\n",
            "Epoch 178/200\n",
            "32/32 - 0s - loss: 0.2034 - accuracy: 0.9395 - val_loss: 1.3699 - val_accuracy: 0.4821 - 283ms/epoch - 9ms/step\n",
            "Epoch 179/200\n",
            "32/32 - 0s - loss: 0.1664 - accuracy: 0.9504 - val_loss: 1.4066 - val_accuracy: 0.4881 - 284ms/epoch - 9ms/step\n",
            "Epoch 180/200\n",
            "32/32 - 0s - loss: 0.1163 - accuracy: 0.9663 - val_loss: 1.3814 - val_accuracy: 0.5179 - 282ms/epoch - 9ms/step\n",
            "Epoch 181/200\n",
            "32/32 - 0s - loss: 0.1890 - accuracy: 0.9484 - val_loss: 1.4855 - val_accuracy: 0.4554 - 279ms/epoch - 9ms/step\n",
            "Epoch 182/200\n",
            "32/32 - 0s - loss: 0.1988 - accuracy: 0.9524 - val_loss: 1.4027 - val_accuracy: 0.4881 - 280ms/epoch - 9ms/step\n",
            "Epoch 183/200\n",
            "32/32 - 0s - loss: 0.1340 - accuracy: 0.9573 - val_loss: 1.5093 - val_accuracy: 0.4881 - 283ms/epoch - 9ms/step\n",
            "Epoch 184/200\n",
            "32/32 - 0s - loss: 0.1467 - accuracy: 0.9583 - val_loss: 1.6199 - val_accuracy: 0.4792 - 281ms/epoch - 9ms/step\n",
            "Epoch 185/200\n",
            "32/32 - 0s - loss: 0.1552 - accuracy: 0.9524 - val_loss: 1.4366 - val_accuracy: 0.5119 - 276ms/epoch - 9ms/step\n",
            "Epoch 186/200\n",
            "32/32 - 0s - loss: 0.1464 - accuracy: 0.9583 - val_loss: 1.3468 - val_accuracy: 0.4940 - 271ms/epoch - 8ms/step\n",
            "Epoch 187/200\n",
            "32/32 - 0s - loss: 0.1558 - accuracy: 0.9494 - val_loss: 1.4539 - val_accuracy: 0.4970 - 275ms/epoch - 9ms/step\n",
            "Epoch 188/200\n",
            "32/32 - 0s - loss: 0.0957 - accuracy: 0.9643 - val_loss: 1.3751 - val_accuracy: 0.5030 - 279ms/epoch - 9ms/step\n",
            "Epoch 189/200\n",
            "32/32 - 0s - loss: 0.0927 - accuracy: 0.9742 - val_loss: 1.4243 - val_accuracy: 0.5000 - 276ms/epoch - 9ms/step\n",
            "Epoch 190/200\n",
            "32/32 - 0s - loss: 0.0927 - accuracy: 0.9732 - val_loss: 1.4612 - val_accuracy: 0.4970 - 278ms/epoch - 9ms/step\n",
            "Epoch 191/200\n",
            "32/32 - 0s - loss: 0.1251 - accuracy: 0.9633 - val_loss: 1.5620 - val_accuracy: 0.4762 - 274ms/epoch - 9ms/step\n",
            "Epoch 192/200\n",
            "32/32 - 0s - loss: 0.1918 - accuracy: 0.9454 - val_loss: 1.3598 - val_accuracy: 0.5060 - 278ms/epoch - 9ms/step\n",
            "Epoch 193/200\n",
            "32/32 - 0s - loss: 0.1461 - accuracy: 0.9603 - val_loss: 1.5933 - val_accuracy: 0.4792 - 280ms/epoch - 9ms/step\n",
            "Epoch 194/200\n",
            "32/32 - 0s - loss: 0.1102 - accuracy: 0.9673 - val_loss: 1.3770 - val_accuracy: 0.4911 - 288ms/epoch - 9ms/step\n",
            "Epoch 195/200\n",
            "32/32 - 0s - loss: 0.1130 - accuracy: 0.9583 - val_loss: 1.4812 - val_accuracy: 0.4970 - 303ms/epoch - 9ms/step\n",
            "Epoch 196/200\n",
            "32/32 - 0s - loss: 0.1077 - accuracy: 0.9722 - val_loss: 1.4131 - val_accuracy: 0.4911 - 324ms/epoch - 10ms/step\n",
            "Epoch 197/200\n",
            "32/32 - 0s - loss: 0.1131 - accuracy: 0.9683 - val_loss: 1.5002 - val_accuracy: 0.4732 - 315ms/epoch - 10ms/step\n",
            "Epoch 198/200\n",
            "32/32 - 0s - loss: 0.2001 - accuracy: 0.9474 - val_loss: 1.6347 - val_accuracy: 0.4167 - 295ms/epoch - 9ms/step\n",
            "Epoch 199/200\n",
            "32/32 - 0s - loss: 0.1413 - accuracy: 0.9524 - val_loss: 1.5213 - val_accuracy: 0.4792 - 304ms/epoch - 10ms/step\n",
            "Epoch 200/200\n",
            "32/32 - 0s - loss: 0.1123 - accuracy: 0.9683 - val_loss: 1.4297 - val_accuracy: 0.4762 - 290ms/epoch - 9ms/step\n",
            "11/11 - 0s - loss: 2.1166 - accuracy: 0.4167 - 66ms/epoch - 6ms/step\n",
            "Test accuracy: 0.4166666567325592\n"
          ]
        }
      ]
    },
    {
      "cell_type": "code",
      "source": [
        "import matplotlib.pyplot as plt\n",
        "\n",
        "# Plotting the training and validation loss\n",
        "plt.figure(figsize=(8, 5))\n",
        "plt.plot(history.history['loss'], label='Training Loss')\n",
        "plt.plot(history.history['val_loss'], label='Validation Loss')\n",
        "plt.title('Training and Validation Loss')\n",
        "plt.xlabel('Epochs')\n",
        "plt.ylabel('Loss')\n",
        "plt.legend()\n",
        "plt.show()\n",
        "\n",
        "# Plotting the training and validation accuracy\n",
        "plt.figure(figsize=(8, 5))\n",
        "plt.plot(history.history['accuracy'], label='Training Accuracy')\n",
        "plt.plot(history.history['val_accuracy'], label='Validation Accuracy')\n",
        "plt.title('Training and Validation Accuracy')\n",
        "plt.xlabel('Epochs')\n",
        "plt.ylabel('Accuracy')\n",
        "plt.legend()\n",
        "plt.show()\n"
      ],
      "metadata": {
        "colab": {
          "base_uri": "https://localhost:8080/",
          "height": 957
        },
        "id": "JjBm2r-RJT2n",
        "outputId": "861b4d78-c2e7-4564-89b8-b005ec03ff82"
      },
      "execution_count": null,
      "outputs": [
        {
          "output_type": "display_data",
          "data": {
            "text/plain": [
              "<Figure size 800x500 with 1 Axes>"
            ],
            "image/png": "[encoded data removed]"
          },
          "metadata": {}
        },
        {
          "output_type": "display_data",
          "data": {
            "text/plain": [
              "<Figure size 800x500 with 1 Axes>"
            ],
            "image/png": "[encoded data removed]"
          },
          "metadata": {}
        }
      ]
    },
    {
      "cell_type": "code",
      "source": [
        "from sklearn.metrics import confusion_matrix\n",
        "import numpy as np\n",
        "import seaborn as sns\n",
        "\n",
        "# predict\n",
        "y_pred = model.predict(X_test)\n",
        "y_pred_classes = np.argmax(y_pred, axis=1)\n",
        "y_true_classes = np.argmax(y_test, axis=1)\n",
        "\n",
        "class_labels = [8, 9, 10, 11]\n",
        "\n",
        "# calculate confusion_matrix\n",
        "cm = confusion_matrix(y_true_classes, y_pred_classes)\n",
        "\n",
        "# plot\n",
        "plt.figure(figsize=(8, 6))\n",
        "sns.heatmap(cm, annot=True, fmt='d', cmap='Blues', xticklabels=class_labels, yticklabels=class_labels)\n",
        "plt.title('Confusion Matrix')\n",
        "plt.xlabel('Predicted Frequency(Hz)')\n",
        "plt.ylabel('True Frequency (Hz)')\n",
        "plt.show()"
      ],
      "metadata": {
        "colab": {
          "base_uri": "https://localhost:8080/",
          "height": 581
        },
        "id": "eMyjHkJSJgOG",
        "outputId": "fdff01a9-8e85-475e-9363-8f042252619c"
      },
      "execution_count": null,
      "outputs": [
        {
          "output_type": "stream",
          "name": "stdout",
          "text": [
            "11/11 [==============================] - 0s 3ms/step\n"
          ]
        },
        {
          "output_type": "display_data",
          "data": {
            "text/plain": [
              "<Figure size 800x600 with 2 Axes>"
            ],
            "image/png": "[encoded data removed]"
          },
          "metadata": {}
        }
      ]
    }
  ],
  "metadata": {
    "kernelspec": {
      "display_name": "Python 3",
      "name": "python3"
    },
    "language_info": {
      "codemirror_mode": {
        "name": "ipython",
        "version": 3
      },
      "file_extension": ".py",
      "mimetype": "text/x-python",
      "name": "python",
      "nbconvert_exporter": "python",
      "pygments_lexer": "ipython3",
      "version": "3.11.3"
    },
    "colab": {
      "provenance": [],
      "toc_visible": true,
      "gpuType": "L4"
    },
    "accelerator": "GPU"
  },
  "nbformat": 4,
  "nbformat_minor": 0
}